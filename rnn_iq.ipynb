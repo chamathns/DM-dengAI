{
 "cells": [
  {
   "cell_type": "code",
   "execution_count": 1,
   "metadata": {},
   "outputs": [],
   "source": [
    "import pandas as pd\n",
    "import numpy as np\n",
    "import seaborn as sns\n",
    "import matplotlib.pyplot as plt\n",
    "import tensorflow as tf\n",
    "from sklearn.preprocessing import MinMaxScaler\n",
    "%matplotlib inline"
   ]
  },
  {
   "cell_type": "code",
   "execution_count": 2,
   "metadata": {},
   "outputs": [],
   "source": [
    "from tensorflow.python.keras.models import Sequential\n",
    "from tensorflow.python.keras.layers import Input, Dense, GRU, Embedding\n",
    "from tensorflow.python.keras.optimizers import RMSprop\n",
    "from tensorflow.python.keras.callbacks import EarlyStopping, ModelCheckpoint, TensorBoard, ReduceLROnPlateau"
   ]
  },
  {
   "cell_type": "code",
   "execution_count": 3,
   "metadata": {},
   "outputs": [],
   "source": [
    "sj_dataset = pd.read_csv(filepath_or_buffer='custom_datasets/dataset_iq.csv')\n",
    "sj_testset = pd.read_csv(filepath_or_buffer='custom_datasets/testset_iq.csv')"
   ]
  },
  {
   "cell_type": "code",
   "execution_count": 4,
   "metadata": {},
   "outputs": [],
   "source": [
    "sj_dataset['week_start_date'] =  pd.to_datetime(sj_dataset['week_start_date'])\n",
    "sj_testset['week_start_date'] =  pd.to_datetime(sj_testset['week_start_date'])"
   ]
  },
  {
   "cell_type": "code",
   "execution_count": 5,
   "metadata": {},
   "outputs": [],
   "source": [
    "sj_dataset = sj_dataset.set_index('week_start_date')\n",
    "sj_testset = sj_testset.set_index('week_start_date')"
   ]
  },
  {
   "cell_type": "code",
   "execution_count": 6,
   "metadata": {},
   "outputs": [
    {
     "data": {
      "text/html": [
       "<div>\n",
       "<style scoped>\n",
       "    .dataframe tbody tr th:only-of-type {\n",
       "        vertical-align: middle;\n",
       "    }\n",
       "\n",
       "    .dataframe tbody tr th {\n",
       "        vertical-align: top;\n",
       "    }\n",
       "\n",
       "    .dataframe thead th {\n",
       "        text-align: right;\n",
       "    }\n",
       "</style>\n",
       "<table border=\"1\" class=\"dataframe\">\n",
       "  <thead>\n",
       "    <tr style=\"text-align: right;\">\n",
       "      <th></th>\n",
       "      <th>ndvi_ne</th>\n",
       "      <th>ndvi_nw</th>\n",
       "      <th>ndvi_se</th>\n",
       "      <th>precipitation_amt_mm</th>\n",
       "      <th>reanalysis_air_temp_k</th>\n",
       "      <th>reanalysis_dew_point_temp_k</th>\n",
       "      <th>reanalysis_max_air_temp_k</th>\n",
       "      <th>reanalysis_min_air_temp_k</th>\n",
       "      <th>reanalysis_precip_amt_kg_per_m2</th>\n",
       "      <th>reanalysis_relative_humidity_percent</th>\n",
       "      <th>station_avg_temp_c</th>\n",
       "      <th>station_diur_temp_rng_c</th>\n",
       "      <th>station_max_temp_c</th>\n",
       "      <th>station_min_temp_c</th>\n",
       "      <th>station_precip_mm</th>\n",
       "      <th>total_cases</th>\n",
       "    </tr>\n",
       "    <tr>\n",
       "      <th>week_start_date</th>\n",
       "      <th></th>\n",
       "      <th></th>\n",
       "      <th></th>\n",
       "      <th></th>\n",
       "      <th></th>\n",
       "      <th></th>\n",
       "      <th></th>\n",
       "      <th></th>\n",
       "      <th></th>\n",
       "      <th></th>\n",
       "      <th></th>\n",
       "      <th></th>\n",
       "      <th></th>\n",
       "      <th></th>\n",
       "      <th></th>\n",
       "      <th></th>\n",
       "    </tr>\n",
       "  </thead>\n",
       "  <tbody>\n",
       "    <tr>\n",
       "      <th>2000-07-01</th>\n",
       "      <td>0.192886</td>\n",
       "      <td>0.132257</td>\n",
       "      <td>0.340886</td>\n",
       "      <td>25.41</td>\n",
       "      <td>296.740000</td>\n",
       "      <td>295.184286</td>\n",
       "      <td>307.3</td>\n",
       "      <td>293.1</td>\n",
       "      <td>43.19</td>\n",
       "      <td>92.418571</td>\n",
       "      <td>26.400000</td>\n",
       "      <td>10.775000</td>\n",
       "      <td>32.5</td>\n",
       "      <td>20.7</td>\n",
       "      <td>3.0</td>\n",
       "      <td>0</td>\n",
       "    </tr>\n",
       "    <tr>\n",
       "      <th>2000-07-08</th>\n",
       "      <td>0.216833</td>\n",
       "      <td>0.276100</td>\n",
       "      <td>0.289457</td>\n",
       "      <td>60.61</td>\n",
       "      <td>296.634286</td>\n",
       "      <td>295.358571</td>\n",
       "      <td>306.6</td>\n",
       "      <td>291.1</td>\n",
       "      <td>46.00</td>\n",
       "      <td>93.581429</td>\n",
       "      <td>26.900000</td>\n",
       "      <td>11.566667</td>\n",
       "      <td>34.0</td>\n",
       "      <td>20.8</td>\n",
       "      <td>55.6</td>\n",
       "      <td>0</td>\n",
       "    </tr>\n",
       "    <tr>\n",
       "      <th>2000-07-15</th>\n",
       "      <td>0.176757</td>\n",
       "      <td>0.173129</td>\n",
       "      <td>0.204114</td>\n",
       "      <td>55.52</td>\n",
       "      <td>296.415714</td>\n",
       "      <td>295.622857</td>\n",
       "      <td>304.5</td>\n",
       "      <td>292.6</td>\n",
       "      <td>64.77</td>\n",
       "      <td>95.848571</td>\n",
       "      <td>26.800000</td>\n",
       "      <td>11.466667</td>\n",
       "      <td>33.0</td>\n",
       "      <td>20.7</td>\n",
       "      <td>38.1</td>\n",
       "      <td>0</td>\n",
       "    </tr>\n",
       "    <tr>\n",
       "      <th>2000-07-22</th>\n",
       "      <td>0.227729</td>\n",
       "      <td>0.145429</td>\n",
       "      <td>0.254200</td>\n",
       "      <td>5.60</td>\n",
       "      <td>295.357143</td>\n",
       "      <td>292.797143</td>\n",
       "      <td>303.6</td>\n",
       "      <td>288.6</td>\n",
       "      <td>23.96</td>\n",
       "      <td>87.234286</td>\n",
       "      <td>25.766667</td>\n",
       "      <td>10.533333</td>\n",
       "      <td>31.5</td>\n",
       "      <td>14.7</td>\n",
       "      <td>30.0</td>\n",
       "      <td>0</td>\n",
       "    </tr>\n",
       "    <tr>\n",
       "      <th>2000-07-29</th>\n",
       "      <td>0.328643</td>\n",
       "      <td>0.322129</td>\n",
       "      <td>0.254371</td>\n",
       "      <td>62.76</td>\n",
       "      <td>296.432857</td>\n",
       "      <td>293.957143</td>\n",
       "      <td>307.0</td>\n",
       "      <td>291.5</td>\n",
       "      <td>31.80</td>\n",
       "      <td>88.161429</td>\n",
       "      <td>26.600000</td>\n",
       "      <td>11.480000</td>\n",
       "      <td>33.3</td>\n",
       "      <td>19.1</td>\n",
       "      <td>4.0</td>\n",
       "      <td>0</td>\n",
       "    </tr>\n",
       "  </tbody>\n",
       "</table>\n",
       "</div>"
      ],
      "text/plain": [
       "                  ndvi_ne   ndvi_nw   ndvi_se  precipitation_amt_mm  \\\n",
       "week_start_date                                                       \n",
       "2000-07-01       0.192886  0.132257  0.340886                 25.41   \n",
       "2000-07-08       0.216833  0.276100  0.289457                 60.61   \n",
       "2000-07-15       0.176757  0.173129  0.204114                 55.52   \n",
       "2000-07-22       0.227729  0.145429  0.254200                  5.60   \n",
       "2000-07-29       0.328643  0.322129  0.254371                 62.76   \n",
       "\n",
       "                 reanalysis_air_temp_k  reanalysis_dew_point_temp_k  \\\n",
       "week_start_date                                                       \n",
       "2000-07-01                  296.740000                   295.184286   \n",
       "2000-07-08                  296.634286                   295.358571   \n",
       "2000-07-15                  296.415714                   295.622857   \n",
       "2000-07-22                  295.357143                   292.797143   \n",
       "2000-07-29                  296.432857                   293.957143   \n",
       "\n",
       "                 reanalysis_max_air_temp_k  reanalysis_min_air_temp_k  \\\n",
       "week_start_date                                                         \n",
       "2000-07-01                           307.3                      293.1   \n",
       "2000-07-08                           306.6                      291.1   \n",
       "2000-07-15                           304.5                      292.6   \n",
       "2000-07-22                           303.6                      288.6   \n",
       "2000-07-29                           307.0                      291.5   \n",
       "\n",
       "                 reanalysis_precip_amt_kg_per_m2  \\\n",
       "week_start_date                                    \n",
       "2000-07-01                                 43.19   \n",
       "2000-07-08                                 46.00   \n",
       "2000-07-15                                 64.77   \n",
       "2000-07-22                                 23.96   \n",
       "2000-07-29                                 31.80   \n",
       "\n",
       "                 reanalysis_relative_humidity_percent  station_avg_temp_c  \\\n",
       "week_start_date                                                             \n",
       "2000-07-01                                  92.418571           26.400000   \n",
       "2000-07-08                                  93.581429           26.900000   \n",
       "2000-07-15                                  95.848571           26.800000   \n",
       "2000-07-22                                  87.234286           25.766667   \n",
       "2000-07-29                                  88.161429           26.600000   \n",
       "\n",
       "                 station_diur_temp_rng_c  station_max_temp_c  \\\n",
       "week_start_date                                                \n",
       "2000-07-01                     10.775000                32.5   \n",
       "2000-07-08                     11.566667                34.0   \n",
       "2000-07-15                     11.466667                33.0   \n",
       "2000-07-22                     10.533333                31.5   \n",
       "2000-07-29                     11.480000                33.3   \n",
       "\n",
       "                 station_min_temp_c  station_precip_mm  total_cases  \n",
       "week_start_date                                                      \n",
       "2000-07-01                     20.7                3.0            0  \n",
       "2000-07-08                     20.8               55.6            0  \n",
       "2000-07-15                     20.7               38.1            0  \n",
       "2000-07-22                     14.7               30.0            0  \n",
       "2000-07-29                     19.1                4.0            0  "
      ]
     },
     "execution_count": 6,
     "metadata": {},
     "output_type": "execute_result"
    }
   ],
   "source": [
    "sj_dataset.head()"
   ]
  },
  {
   "cell_type": "code",
   "execution_count": 7,
   "metadata": {},
   "outputs": [],
   "source": [
    "sj_train = sj_dataset.copy()\n",
    "sj_train.drop(['total_cases'],axis=1,inplace=True)"
   ]
  },
  {
   "cell_type": "code",
   "execution_count": 8,
   "metadata": {},
   "outputs": [
    {
     "data": {
      "text/plain": [
       "(516, 15)"
      ]
     },
     "execution_count": 8,
     "metadata": {},
     "output_type": "execute_result"
    }
   ],
   "source": [
    "sj_train.shape"
   ]
  },
  {
   "cell_type": "code",
   "execution_count": 9,
   "metadata": {},
   "outputs": [],
   "source": [
    "sj_target = pd.DataFrame()\n",
    "sj_target['total_cases'] = sj_dataset['total_cases']"
   ]
  },
  {
   "cell_type": "code",
   "execution_count": 10,
   "metadata": {},
   "outputs": [
    {
     "data": {
      "text/html": [
       "<div>\n",
       "<style scoped>\n",
       "    .dataframe tbody tr th:only-of-type {\n",
       "        vertical-align: middle;\n",
       "    }\n",
       "\n",
       "    .dataframe tbody tr th {\n",
       "        vertical-align: top;\n",
       "    }\n",
       "\n",
       "    .dataframe thead th {\n",
       "        text-align: right;\n",
       "    }\n",
       "</style>\n",
       "<table border=\"1\" class=\"dataframe\">\n",
       "  <thead>\n",
       "    <tr style=\"text-align: right;\">\n",
       "      <th></th>\n",
       "      <th>total_cases</th>\n",
       "    </tr>\n",
       "    <tr>\n",
       "      <th>week_start_date</th>\n",
       "      <th></th>\n",
       "    </tr>\n",
       "  </thead>\n",
       "  <tbody>\n",
       "    <tr>\n",
       "      <th>2000-07-01</th>\n",
       "      <td>0</td>\n",
       "    </tr>\n",
       "    <tr>\n",
       "      <th>2000-07-08</th>\n",
       "      <td>0</td>\n",
       "    </tr>\n",
       "    <tr>\n",
       "      <th>2000-07-15</th>\n",
       "      <td>0</td>\n",
       "    </tr>\n",
       "    <tr>\n",
       "      <th>2000-07-22</th>\n",
       "      <td>0</td>\n",
       "    </tr>\n",
       "    <tr>\n",
       "      <th>2000-07-29</th>\n",
       "      <td>0</td>\n",
       "    </tr>\n",
       "  </tbody>\n",
       "</table>\n",
       "</div>"
      ],
      "text/plain": [
       "                 total_cases\n",
       "week_start_date             \n",
       "2000-07-01                 0\n",
       "2000-07-08                 0\n",
       "2000-07-15                 0\n",
       "2000-07-22                 0\n",
       "2000-07-29                 0"
      ]
     },
     "execution_count": 10,
     "metadata": {},
     "output_type": "execute_result"
    }
   ],
   "source": [
    "sj_target.head()"
   ]
  },
  {
   "cell_type": "code",
   "execution_count": 11,
   "metadata": {},
   "outputs": [],
   "source": [
    "x_data = sj_train.values[:]"
   ]
  },
  {
   "cell_type": "code",
   "execution_count": 12,
   "metadata": {},
   "outputs": [
    {
     "name": "stdout",
     "output_type": "stream",
     "text": [
      "<class 'numpy.ndarray'>\n",
      "Shape: (516, 15)\n"
     ]
    }
   ],
   "source": [
    "print(type(x_data))\n",
    "print(\"Shape:\", x_data.shape)"
   ]
  },
  {
   "cell_type": "code",
   "execution_count": 13,
   "metadata": {},
   "outputs": [],
   "source": [
    "y_data = sj_target.values"
   ]
  },
  {
   "cell_type": "code",
   "execution_count": 14,
   "metadata": {},
   "outputs": [
    {
     "name": "stdout",
     "output_type": "stream",
     "text": [
      "<class 'numpy.ndarray'>\n",
      "Shape: (516, 1)\n"
     ]
    }
   ],
   "source": [
    "print(type(y_data))\n",
    "print(\"Shape:\", y_data.shape)"
   ]
  },
  {
   "cell_type": "code",
   "execution_count": 15,
   "metadata": {},
   "outputs": [
    {
     "data": {
      "text/plain": [
       "516"
      ]
     },
     "execution_count": 15,
     "metadata": {},
     "output_type": "execute_result"
    }
   ],
   "source": [
    "num_data = len(x_data)\n",
    "num_data"
   ]
  },
  {
   "cell_type": "code",
   "execution_count": 16,
   "metadata": {},
   "outputs": [],
   "source": [
    "train_split = 0.85"
   ]
  },
  {
   "cell_type": "code",
   "execution_count": 17,
   "metadata": {},
   "outputs": [
    {
     "data": {
      "text/plain": [
       "438"
      ]
     },
     "execution_count": 17,
     "metadata": {},
     "output_type": "execute_result"
    }
   ],
   "source": [
    "num_train = int(train_split * num_data)\n",
    "num_train"
   ]
  },
  {
   "cell_type": "code",
   "execution_count": 18,
   "metadata": {},
   "outputs": [
    {
     "data": {
      "text/plain": [
       "78"
      ]
     },
     "execution_count": 18,
     "metadata": {},
     "output_type": "execute_result"
    }
   ],
   "source": [
    "num_test = num_data - num_train\n",
    "num_test"
   ]
  },
  {
   "cell_type": "code",
   "execution_count": 19,
   "metadata": {},
   "outputs": [
    {
     "data": {
      "text/plain": [
       "516"
      ]
     },
     "execution_count": 19,
     "metadata": {},
     "output_type": "execute_result"
    }
   ],
   "source": [
    "x_train = x_data[0:num_train]\n",
    "x_test = x_data[num_train:]\n",
    "len(x_train) + len(x_test)"
   ]
  },
  {
   "cell_type": "code",
   "execution_count": 20,
   "metadata": {},
   "outputs": [
    {
     "data": {
      "text/plain": [
       "516"
      ]
     },
     "execution_count": 20,
     "metadata": {},
     "output_type": "execute_result"
    }
   ],
   "source": [
    "y_train = y_data[0:num_train]\n",
    "y_test = y_data[num_train:]\n",
    "len(y_train) + len(y_test)"
   ]
  },
  {
   "cell_type": "code",
   "execution_count": 21,
   "metadata": {},
   "outputs": [
    {
     "data": {
      "text/plain": [
       "15"
      ]
     },
     "execution_count": 21,
     "metadata": {},
     "output_type": "execute_result"
    }
   ],
   "source": [
    "num_x_signals = x_data.shape[1]\n",
    "num_x_signals"
   ]
  },
  {
   "cell_type": "code",
   "execution_count": 22,
   "metadata": {},
   "outputs": [
    {
     "data": {
      "text/plain": [
       "1"
      ]
     },
     "execution_count": 22,
     "metadata": {},
     "output_type": "execute_result"
    }
   ],
   "source": [
    "num_y_signals = y_data.shape[1]\n",
    "num_y_signals"
   ]
  },
  {
   "cell_type": "code",
   "execution_count": 23,
   "metadata": {},
   "outputs": [
    {
     "name": "stdout",
     "output_type": "stream",
     "text": [
      "Min: -0.019300000000000005\n",
      "Max: 543.3\n"
     ]
    }
   ],
   "source": [
    "print(\"Min:\", np.min(x_train))\n",
    "print(\"Max:\", np.max(x_train))"
   ]
  },
  {
   "cell_type": "code",
   "execution_count": 24,
   "metadata": {},
   "outputs": [],
   "source": [
    "x_scaler = MinMaxScaler()"
   ]
  },
  {
   "cell_type": "code",
   "execution_count": 25,
   "metadata": {},
   "outputs": [],
   "source": [
    "x_train_scaled = x_scaler.fit_transform(x_train)"
   ]
  },
  {
   "cell_type": "code",
   "execution_count": 26,
   "metadata": {},
   "outputs": [
    {
     "name": "stdout",
     "output_type": "stream",
     "text": [
      "Min: 0.0\n",
      "Max: 1.0000000000000002\n"
     ]
    }
   ],
   "source": [
    "print(\"Min:\", np.min(x_train_scaled))\n",
    "print(\"Max:\", np.max(x_train_scaled))"
   ]
  },
  {
   "cell_type": "code",
   "execution_count": 27,
   "metadata": {},
   "outputs": [],
   "source": [
    "x_test_scaled = x_scaler.transform(x_test)"
   ]
  },
  {
   "cell_type": "code",
   "execution_count": 28,
   "metadata": {},
   "outputs": [
    {
     "name": "stderr",
     "output_type": "stream",
     "text": [
      "/home/chamath/anaconda3/lib/python3.6/site-packages/sklearn/utils/validation.py:595: DataConversionWarning: Data with input dtype int64 was converted to float64 by MinMaxScaler.\n",
      "  warnings.warn(msg, DataConversionWarning)\n"
     ]
    }
   ],
   "source": [
    "y_scaler = MinMaxScaler()\n",
    "y_train_scaled = y_scaler.fit_transform(y_train)\n",
    "y_test_scaled = y_scaler.transform(y_test)"
   ]
  },
  {
   "cell_type": "code",
   "execution_count": 29,
   "metadata": {},
   "outputs": [
    {
     "name": "stdout",
     "output_type": "stream",
     "text": [
      "(438, 15)\n",
      "(438, 1)\n"
     ]
    }
   ],
   "source": [
    "print(x_train_scaled.shape)\n",
    "print(y_train_scaled.shape)"
   ]
  },
  {
   "cell_type": "code",
   "execution_count": 30,
   "metadata": {},
   "outputs": [],
   "source": [
    "def batch_generator(batch_size, sequence_length):\n",
    "    \"\"\"\n",
    "    Generator function for creating random batches of training-data.\n",
    "    \"\"\"\n",
    "\n",
    "    # Infinite loop.\n",
    "    while True:\n",
    "        # Allocate a new array for the batch of input-signals.\n",
    "        x_shape = (batch_size, sequence_length, num_x_signals)\n",
    "        x_batch = np.zeros(shape=x_shape, dtype=np.float16)\n",
    "\n",
    "        # Allocate a new array for the batch of output-signals.\n",
    "        y_shape = (batch_size, sequence_length, num_y_signals)\n",
    "        y_batch = np.zeros(shape=y_shape, dtype=np.float16)\n",
    "\n",
    "        # Fill the batch with random sequences of data.\n",
    "        for i in range(batch_size):\n",
    "            # Get a random start-index.\n",
    "            # This points somewhere into the training-data.\n",
    "            idx = np.random.randint(num_train - sequence_length)\n",
    "            \n",
    "            # Copy the sequences of data starting at this index.\n",
    "            x_batch[i] = x_train_scaled[idx:idx+sequence_length]\n",
    "            y_batch[i] = y_train_scaled[idx:idx+sequence_length]\n",
    "        \n",
    "        yield (x_batch, y_batch)"
   ]
  },
  {
   "cell_type": "code",
   "execution_count": 31,
   "metadata": {},
   "outputs": [],
   "source": [
    "batch_size = 10"
   ]
  },
  {
   "cell_type": "code",
   "execution_count": 32,
   "metadata": {},
   "outputs": [
    {
     "data": {
      "text/plain": [
       "28"
      ]
     },
     "execution_count": 32,
     "metadata": {},
     "output_type": "execute_result"
    }
   ],
   "source": [
    "sequence_length =  7 * 4\n",
    "sequence_length"
   ]
  },
  {
   "cell_type": "code",
   "execution_count": 33,
   "metadata": {},
   "outputs": [],
   "source": [
    "generator = batch_generator(batch_size=batch_size,\n",
    "                            sequence_length=sequence_length)"
   ]
  },
  {
   "cell_type": "code",
   "execution_count": 34,
   "metadata": {},
   "outputs": [],
   "source": [
    "x_batch, y_batch = next(generator)"
   ]
  },
  {
   "cell_type": "code",
   "execution_count": 35,
   "metadata": {},
   "outputs": [
    {
     "name": "stdout",
     "output_type": "stream",
     "text": [
      "(10, 28, 15)\n",
      "(10, 28, 1)\n"
     ]
    }
   ],
   "source": [
    "print(x_batch.shape)\n",
    "print(y_batch.shape)"
   ]
  },
  {
   "cell_type": "code",
   "execution_count": 36,
   "metadata": {},
   "outputs": [
    {
     "data": {
      "text/plain": [
       "[<matplotlib.lines.Line2D at 0x7fc574cf8898>]"
      ]
     },
     "execution_count": 36,
     "metadata": {},
     "output_type": "execute_result"
    },
    {
     "data": {
      "image/png": "[encoded data removed]",
      "text/plain": [
       "<Figure size 432x288 with 1 Axes>"
      ]
     },
     "metadata": {},
     "output_type": "display_data"
    }
   ],
   "source": [
    "batch = 0   # First sequence in the batch.\n",
    "signal = 0  # First signal from the 20 input-signals.\n",
    "seq = x_batch[batch, :, signal]\n",
    "plt.plot(seq)"
   ]
  },
  {
   "cell_type": "code",
   "execution_count": 37,
   "metadata": {},
   "outputs": [
    {
     "data": {
      "text/plain": [
       "[<matplotlib.lines.Line2D at 0x7fc574c0e978>]"
      ]
     },
     "execution_count": 37,
     "metadata": {},
     "output_type": "execute_result"
    },
    {
     "data": {
      "image/png": "[encoded data removed]",
      "text/plain": [
       "<Figure size 432x288 with 1 Axes>"
      ]
     },
     "metadata": {},
     "output_type": "display_data"
    }
   ],
   "source": [
    "seq = y_batch[batch, :, signal]\n",
    "plt.plot(seq)"
   ]
  },
  {
   "cell_type": "code",
   "execution_count": 38,
   "metadata": {},
   "outputs": [],
   "source": [
    "validation_data = (np.expand_dims(x_test_scaled, axis=0),\n",
    "                   np.expand_dims(y_test_scaled, axis=0))"
   ]
  },
  {
   "cell_type": "code",
   "execution_count": 39,
   "metadata": {},
   "outputs": [],
   "source": [
    "model = Sequential()"
   ]
  },
  {
   "cell_type": "code",
   "execution_count": 40,
   "metadata": {},
   "outputs": [
    {
     "name": "stdout",
     "output_type": "stream",
     "text": [
      "WARNING:tensorflow:From /home/chamath/anaconda3/lib/python3.6/site-packages/tensorflow/python/ops/resource_variable_ops.py:435: colocate_with (from tensorflow.python.framework.ops) is deprecated and will be removed in a future version.\n",
      "Instructions for updating:\n",
      "Colocations handled automatically by placer.\n"
     ]
    }
   ],
   "source": [
    "model.add(GRU(units=512,\n",
    "              return_sequences=True,\n",
    "              input_shape=(None, num_x_signals,)))"
   ]
  },
  {
   "cell_type": "code",
   "execution_count": 41,
   "metadata": {},
   "outputs": [],
   "source": [
    "model.add(Dense(num_y_signals, activation='sigmoid'))"
   ]
  },
  {
   "cell_type": "code",
   "execution_count": 42,
   "metadata": {},
   "outputs": [],
   "source": [
    "if False:\n",
    "    from tensorflow.python.keras.initializers import RandomUniform\n",
    "\n",
    "    # Maybe use lower init-ranges.\n",
    "    init = RandomUniform(minval=-0.05, maxval=0.05)\n",
    "\n",
    "    model.add(Dense(num_y_signals,\n",
    "                    activation='linear',\n",
    "                    kernel_initializer=init))"
   ]
  },
  {
   "cell_type": "code",
   "execution_count": 43,
   "metadata": {},
   "outputs": [],
   "source": [
    "warmup_steps = 5"
   ]
  },
  {
   "cell_type": "code",
   "execution_count": 44,
   "metadata": {},
   "outputs": [],
   "source": [
    "def loss_mse_warmup(y_true, y_pred):\n",
    "    \"\"\"\n",
    "    Calculate the Mean Squared Error between y_true and y_pred,\n",
    "    but ignore the beginning \"warmup\" part of the sequences.\n",
    "    \n",
    "    y_true is the desired output.\n",
    "    y_pred is the model's output.\n",
    "    \"\"\"\n",
    "\n",
    "    # The shape of both input tensors are:\n",
    "    # [batch_size, sequence_length, num_y_signals].\n",
    "\n",
    "    # Ignore the \"warmup\" parts of the sequences\n",
    "    # by taking slices of the tensors.\n",
    "    y_true_slice = y_true[:, warmup_steps:, :]\n",
    "    y_pred_slice = y_pred[:, warmup_steps:, :]\n",
    "\n",
    "    # These sliced tensors both have this shape:\n",
    "    # [batch_size, sequence_length - warmup_steps, num_y_signals]\n",
    "\n",
    "    # Calculate the MSE loss for each value in these tensors.\n",
    "    # This outputs a 3-rank tensor of the same shape.\n",
    "    loss = tf.losses.mean_squared_error(labels=y_true_slice,\n",
    "                                        predictions=y_pred_slice)\n",
    "\n",
    "    # Keras may reduce this across the first axis (the batch)\n",
    "    # but the semantics are unclear, so to be sure we use\n",
    "    # the loss across the entire tensor, we reduce it to a\n",
    "    # single scalar with the mean function.\n",
    "    loss_mean = tf.reduce_mean(loss)\n",
    "\n",
    "    return loss_mean"
   ]
  },
  {
   "cell_type": "code",
   "execution_count": 45,
   "metadata": {},
   "outputs": [],
   "source": [
    "optimizer = RMSprop(lr=1e-3)"
   ]
  },
  {
   "cell_type": "code",
   "execution_count": 46,
   "metadata": {},
   "outputs": [
    {
     "name": "stdout",
     "output_type": "stream",
     "text": [
      "WARNING:tensorflow:From /home/chamath/anaconda3/lib/python3.6/site-packages/tensorflow/python/ops/losses/losses_impl.py:667: to_float (from tensorflow.python.ops.math_ops) is deprecated and will be removed in a future version.\n",
      "Instructions for updating:\n",
      "Use tf.cast instead.\n"
     ]
    }
   ],
   "source": [
    "model.compile(loss=loss_mse_warmup, optimizer=optimizer)"
   ]
  },
  {
   "cell_type": "code",
   "execution_count": 47,
   "metadata": {},
   "outputs": [
    {
     "name": "stdout",
     "output_type": "stream",
     "text": [
      "_________________________________________________________________\n",
      "Layer (type)                 Output Shape              Param #   \n",
      "=================================================================\n",
      "gru (GRU)                    (None, None, 512)         811008    \n",
      "_________________________________________________________________\n",
      "dense (Dense)                (None, None, 1)           513       \n",
      "=================================================================\n",
      "Total params: 811,521\n",
      "Trainable params: 811,521\n",
      "Non-trainable params: 0\n",
      "_________________________________________________________________\n"
     ]
    }
   ],
   "source": [
    "model.summary()"
   ]
  },
  {
   "cell_type": "code",
   "execution_count": 48,
   "metadata": {},
   "outputs": [],
   "source": [
    "path_checkpoint = 'iq_checkpoint.keras'\n",
    "callback_checkpoint = ModelCheckpoint(filepath=path_checkpoint,\n",
    "                                      monitor='val_loss',\n",
    "                                      verbose=1,\n",
    "                                      save_weights_only=True,\n",
    "                                      save_best_only=True)"
   ]
  },
  {
   "cell_type": "code",
   "execution_count": 49,
   "metadata": {},
   "outputs": [],
   "source": [
    "callback_early_stopping = EarlyStopping(monitor='val_loss',\n",
    "                                        patience=10, verbose=1)"
   ]
  },
  {
   "cell_type": "code",
   "execution_count": 50,
   "metadata": {},
   "outputs": [],
   "source": [
    "callback_tensorboard = TensorBoard(log_dir='./iq_logs/',\n",
    "                                   histogram_freq=0,\n",
    "                                   write_graph=False)"
   ]
  },
  {
   "cell_type": "code",
   "execution_count": 51,
   "metadata": {},
   "outputs": [],
   "source": [
    "callback_reduce_lr = ReduceLROnPlateau(monitor='val_loss',\n",
    "                                       factor=0.1,\n",
    "                                       min_lr=1e-4,\n",
    "                                       patience=3,\n",
    "                                       verbose=1)"
   ]
  },
  {
   "cell_type": "code",
   "execution_count": 52,
   "metadata": {},
   "outputs": [],
   "source": [
    "callbacks = [\n",
    "             callback_checkpoint,\n",
    "             callback_tensorboard,\n",
    "             callback_reduce_lr]"
   ]
  },
  {
   "cell_type": "code",
   "execution_count": 53,
   "metadata": {},
   "outputs": [
    {
     "name": "stdout",
     "output_type": "stream",
     "text": [
      "Epoch 1/100\n",
      "1/1 [==============================] - 0s 63ms/sample - loss: 0.0031\n",
      "\n",
      "Epoch 00001: val_loss improved from inf to 0.00305, saving model to iq_checkpoint.keras\n",
      "100/100 [==============================] - 4s 41ms/step - loss: 0.0112 - val_loss: 0.0031\n",
      "Epoch 2/100\n",
      "1/1 [==============================] - 0s 16ms/sample - loss: 0.0028\n",
      "\n",
      "Epoch 00002: val_loss improved from 0.00305 to 0.00282, saving model to iq_checkpoint.keras\n",
      "100/100 [==============================] - 3s 30ms/step - loss: 0.0088 - val_loss: 0.0028\n",
      "Epoch 3/100\n",
      "1/1 [==============================] - 0s 15ms/sample - loss: 0.0034\n",
      "\n",
      "Epoch 00003: val_loss did not improve from 0.00282\n",
      "100/100 [==============================] - 3s 28ms/step - loss: 0.0080 - val_loss: 0.0034\n",
      "Epoch 4/100\n",
      "1/1 [==============================] - 0s 16ms/sample - loss: 0.0037\n",
      "\n",
      "Epoch 00004: val_loss did not improve from 0.00282\n",
      "100/100 [==============================] - 3s 28ms/step - loss: 0.0063 - val_loss: 0.0037\n",
      "Epoch 5/100\n",
      "1/1 [==============================] - 0s 16ms/sample - loss: 0.0030\n",
      "\n",
      "Epoch 00005: val_loss did not improve from 0.00282\n",
      "\n",
      "Epoch 00005: ReduceLROnPlateau reducing learning rate to 0.00010000000474974513.\n",
      "100/100 [==============================] - 3s 29ms/step - loss: 0.0053 - val_loss: 0.0030\n",
      "Epoch 6/100\n",
      "1/1 [==============================] - 0s 16ms/sample - loss: 0.0036\n",
      "\n",
      "Epoch 00006: val_loss did not improve from 0.00282\n",
      "100/100 [==============================] - 3s 29ms/step - loss: 0.0041 - val_loss: 0.0036\n",
      "Epoch 7/100\n",
      "1/1 [==============================] - 0s 18ms/sample - loss: 0.0033\n",
      "\n",
      "Epoch 00007: val_loss did not improve from 0.00282\n",
      "100/100 [==============================] - 3s 29ms/step - loss: 0.0037 - val_loss: 0.0033\n",
      "Epoch 8/100\n",
      "1/1 [==============================] - 0s 16ms/sample - loss: 0.0034\n",
      "\n",
      "Epoch 00008: val_loss did not improve from 0.00282\n",
      "\n",
      "Epoch 00008: ReduceLROnPlateau reducing learning rate to 0.0001.\n",
      "100/100 [==============================] - 3s 29ms/step - loss: 0.0037 - val_loss: 0.0034\n",
      "Epoch 9/100\n",
      "1/1 [==============================] - 0s 15ms/sample - loss: 0.0036\n",
      "\n",
      "Epoch 00009: val_loss did not improve from 0.00282\n",
      "100/100 [==============================] - 3s 29ms/step - loss: 0.0033 - val_loss: 0.0036\n",
      "Epoch 10/100\n",
      "1/1 [==============================] - 0s 16ms/sample - loss: 0.0035\n",
      "\n",
      "Epoch 00010: val_loss did not improve from 0.00282\n",
      "100/100 [==============================] - 3s 29ms/step - loss: 0.0030 - val_loss: 0.0035\n",
      "Epoch 11/100\n",
      "1/1 [==============================] - 0s 16ms/sample - loss: 0.0040\n",
      "\n",
      "Epoch 00011: val_loss did not improve from 0.00282\n",
      "100/100 [==============================] - 3s 29ms/step - loss: 0.0030 - val_loss: 0.0040\n",
      "Epoch 12/100\n",
      "1/1 [==============================] - 0s 15ms/sample - loss: 0.0031\n",
      "\n",
      "Epoch 00012: val_loss did not improve from 0.00282\n",
      "100/100 [==============================] - 3s 29ms/step - loss: 0.0026 - val_loss: 0.0031\n",
      "Epoch 13/100\n",
      "1/1 [==============================] - 0s 16ms/sample - loss: 0.0037\n",
      "\n",
      "Epoch 00013: val_loss did not improve from 0.00282\n",
      "100/100 [==============================] - 3s 30ms/step - loss: 0.0025 - val_loss: 0.0037\n",
      "Epoch 14/100\n",
      "1/1 [==============================] - 0s 16ms/sample - loss: 0.0033\n",
      "\n",
      "Epoch 00014: val_loss did not improve from 0.00282\n",
      "100/100 [==============================] - 3s 29ms/step - loss: 0.0024 - val_loss: 0.0033\n",
      "Epoch 15/100\n",
      "1/1 [==============================] - 0s 19ms/sample - loss: 0.0030\n",
      "\n",
      "Epoch 00015: val_loss did not improve from 0.00282\n",
      "100/100 [==============================] - 3s 30ms/step - loss: 0.0023 - val_loss: 0.0030\n",
      "Epoch 16/100\n",
      "1/1 [==============================] - 0s 19ms/sample - loss: 0.0029\n",
      "\n",
      "Epoch 00016: val_loss did not improve from 0.00282\n",
      "100/100 [==============================] - 3s 35ms/step - loss: 0.0023 - val_loss: 0.0029\n",
      "Epoch 17/100\n",
      "1/1 [==============================] - 0s 16ms/sample - loss: 0.0028\n",
      "\n",
      "Epoch 00017: val_loss improved from 0.00282 to 0.00278, saving model to iq_checkpoint.keras\n",
      "100/100 [==============================] - 3s 28ms/step - loss: 0.0021 - val_loss: 0.0028\n",
      "Epoch 18/100\n",
      "1/1 [==============================] - 0s 19ms/sample - loss: 0.0029\n",
      "\n",
      "Epoch 00018: val_loss did not improve from 0.00278\n",
      "100/100 [==============================] - 3s 33ms/step - loss: 0.0020 - val_loss: 0.0029\n",
      "Epoch 19/100\n",
      "1/1 [==============================] - 0s 19ms/sample - loss: 0.0028\n",
      "\n",
      "Epoch 00019: val_loss did not improve from 0.00278\n",
      "100/100 [==============================] - 3s 34ms/step - loss: 0.0020 - val_loss: 0.0028\n",
      "Epoch 20/100\n",
      "1/1 [==============================] - 0s 17ms/sample - loss: 0.0028\n",
      "\n",
      "Epoch 00020: val_loss improved from 0.00278 to 0.00278, saving model to iq_checkpoint.keras\n",
      "100/100 [==============================] - 3s 30ms/step - loss: 0.0019 - val_loss: 0.0028\n",
      "Epoch 21/100\n",
      "1/1 [==============================] - 0s 16ms/sample - loss: 0.0027\n",
      "\n",
      "Epoch 00021: val_loss improved from 0.00278 to 0.00273, saving model to iq_checkpoint.keras\n",
      "100/100 [==============================] - 3s 29ms/step - loss: 0.0018 - val_loss: 0.0027\n",
      "Epoch 22/100\n",
      "1/1 [==============================] - 0s 17ms/sample - loss: 0.0028\n",
      "\n",
      "Epoch 00022: val_loss did not improve from 0.00273\n",
      "100/100 [==============================] - 3s 30ms/step - loss: 0.0018 - val_loss: 0.0028\n",
      "Epoch 23/100\n",
      "1/1 [==============================] - 0s 17ms/sample - loss: 0.0028\n",
      "\n",
      "Epoch 00023: val_loss did not improve from 0.00273\n",
      "100/100 [==============================] - 3s 30ms/step - loss: 0.0017 - val_loss: 0.0028\n",
      "Epoch 24/100\n",
      "1/1 [==============================] - 0s 17ms/sample - loss: 0.0028\n",
      "\n",
      "Epoch 00024: val_loss did not improve from 0.00273\n",
      "100/100 [==============================] - 3s 30ms/step - loss: 0.0017 - val_loss: 0.0028\n",
      "Epoch 25/100\n",
      "1/1 [==============================] - 0s 17ms/sample - loss: 0.0032\n",
      "\n",
      "Epoch 00025: val_loss did not improve from 0.00273\n",
      "100/100 [==============================] - 3s 30ms/step - loss: 0.0016 - val_loss: 0.0032\n",
      "Epoch 26/100\n",
      "1/1 [==============================] - 0s 17ms/sample - loss: 0.0029\n",
      "\n",
      "Epoch 00026: val_loss did not improve from 0.00273\n",
      "100/100 [==============================] - 3s 31ms/step - loss: 0.0016 - val_loss: 0.0029\n",
      "Epoch 27/100\n",
      "1/1 [==============================] - 0s 17ms/sample - loss: 0.0028\n",
      "\n",
      "Epoch 00027: val_loss did not improve from 0.00273\n",
      "100/100 [==============================] - 3s 29ms/step - loss: 0.0017 - val_loss: 0.0028\n",
      "Epoch 28/100\n",
      "1/1 [==============================] - 0s 17ms/sample - loss: 0.0029\n",
      "\n",
      "Epoch 00028: val_loss did not improve from 0.00273\n",
      "100/100 [==============================] - 3s 29ms/step - loss: 0.0015 - val_loss: 0.0029\n",
      "Epoch 29/100\n",
      "1/1 [==============================] - 0s 17ms/sample - loss: 0.0027\n",
      "\n",
      "Epoch 00029: val_loss improved from 0.00273 to 0.00273, saving model to iq_checkpoint.keras\n",
      "100/100 [==============================] - 3s 30ms/step - loss: 0.0016 - val_loss: 0.0027\n",
      "Epoch 30/100\n",
      "1/1 [==============================] - 0s 17ms/sample - loss: 0.0032\n",
      "\n",
      "Epoch 00030: val_loss did not improve from 0.00273\n",
      "100/100 [==============================] - 3s 30ms/step - loss: 0.0015 - val_loss: 0.0032\n",
      "Epoch 31/100\n",
      "1/1 [==============================] - 0s 18ms/sample - loss: 0.0034\n",
      "\n",
      "Epoch 00031: val_loss did not improve from 0.00273\n",
      "100/100 [==============================] - 3s 31ms/step - loss: 0.0014 - val_loss: 0.0034\n",
      "Epoch 32/100\n",
      "1/1 [==============================] - 0s 16ms/sample - loss: 0.0033\n",
      "\n",
      "Epoch 00032: val_loss did not improve from 0.00273\n",
      "100/100 [==============================] - 3s 29ms/step - loss: 0.0014 - val_loss: 0.0033\n",
      "Epoch 33/100\n",
      "1/1 [==============================] - 0s 17ms/sample - loss: 0.0030\n",
      "\n",
      "Epoch 00033: val_loss did not improve from 0.00273\n",
      "100/100 [==============================] - 3s 30ms/step - loss: 0.0013 - val_loss: 0.0030\n",
      "Epoch 34/100\n",
      "1/1 [==============================] - 0s 19ms/sample - loss: 0.0031\n",
      "\n",
      "Epoch 00034: val_loss did not improve from 0.00273\n",
      "100/100 [==============================] - 3s 30ms/step - loss: 0.0014 - val_loss: 0.0031\n",
      "Epoch 35/100\n",
      "1/1 [==============================] - 0s 17ms/sample - loss: 0.0028\n",
      "\n",
      "Epoch 00035: val_loss did not improve from 0.00273\n",
      "100/100 [==============================] - 3s 30ms/step - loss: 0.0014 - val_loss: 0.0028\n",
      "Epoch 36/100\n",
      "1/1 [==============================] - 0s 17ms/sample - loss: 0.0029\n",
      "\n",
      "Epoch 00036: val_loss did not improve from 0.00273\n",
      "100/100 [==============================] - 3s 30ms/step - loss: 0.0013 - val_loss: 0.0029\n",
      "Epoch 37/100\n",
      "1/1 [==============================] - 0s 17ms/sample - loss: 0.0029\n",
      "\n",
      "Epoch 00037: val_loss did not improve from 0.00273\n",
      "100/100 [==============================] - 3s 30ms/step - loss: 0.0013 - val_loss: 0.0029\n",
      "Epoch 38/100\n",
      "1/1 [==============================] - 0s 21ms/sample - loss: 0.0030\n",
      "\n",
      "Epoch 00038: val_loss did not improve from 0.00273\n",
      "100/100 [==============================] - 3s 31ms/step - loss: 0.0012 - val_loss: 0.0030\n",
      "Epoch 39/100\n",
      "1/1 [==============================] - 0s 16ms/sample - loss: 0.0034\n",
      "\n",
      "Epoch 00039: val_loss did not improve from 0.00273\n",
      "100/100 [==============================] - 3s 30ms/step - loss: 0.0011 - val_loss: 0.0034\n",
      "Epoch 40/100\n",
      "1/1 [==============================] - 0s 18ms/sample - loss: 0.0031\n",
      "\n",
      "Epoch 00040: val_loss did not improve from 0.00273\n",
      "100/100 [==============================] - 3s 30ms/step - loss: 0.0011 - val_loss: 0.0031\n",
      "Epoch 41/100\n",
      "1/1 [==============================] - 0s 17ms/sample - loss: 0.0030\n",
      "\n",
      "Epoch 00041: val_loss did not improve from 0.00273\n",
      "100/100 [==============================] - 3s 30ms/step - loss: 0.0011 - val_loss: 0.0030\n",
      "Epoch 42/100\n",
      "1/1 [==============================] - 0s 21ms/sample - loss: 0.0029\n",
      "\n",
      "Epoch 00042: val_loss did not improve from 0.00273\n",
      "100/100 [==============================] - 3s 31ms/step - loss: 0.0011 - val_loss: 0.0029\n",
      "Epoch 43/100\n",
      "1/1 [==============================] - 0s 17ms/sample - loss: 0.0029\n",
      "\n",
      "Epoch 00043: val_loss did not improve from 0.00273\n",
      "100/100 [==============================] - 3s 32ms/step - loss: 0.0011 - val_loss: 0.0029\n",
      "Epoch 44/100\n",
      "1/1 [==============================] - 0s 19ms/sample - loss: 0.0030\n",
      "\n",
      "Epoch 00044: val_loss did not improve from 0.00273\n",
      "100/100 [==============================] - 3s 31ms/step - loss: 9.7564e-04 - val_loss: 0.0030\n",
      "Epoch 45/100\n",
      "1/1 [==============================] - 0s 18ms/sample - loss: 0.0034\n",
      "\n",
      "Epoch 00045: val_loss did not improve from 0.00273\n",
      "100/100 [==============================] - 3s 31ms/step - loss: 0.0010 - val_loss: 0.0034\n",
      "Epoch 46/100\n",
      "1/1 [==============================] - 0s 18ms/sample - loss: 0.0028\n",
      "\n",
      "Epoch 00046: val_loss did not improve from 0.00273\n",
      "100/100 [==============================] - 3s 30ms/step - loss: 9.8625e-04 - val_loss: 0.0028\n",
      "Epoch 47/100\n",
      "1/1 [==============================] - 0s 20ms/sample - loss: 0.0029\n",
      "\n",
      "Epoch 00047: val_loss did not improve from 0.00273\n",
      "100/100 [==============================] - 3s 30ms/step - loss: 9.1566e-04 - val_loss: 0.0029\n",
      "Epoch 48/100\n",
      "1/1 [==============================] - 0s 18ms/sample - loss: 0.0029\n",
      "\n",
      "Epoch 00048: val_loss did not improve from 0.00273\n",
      "100/100 [==============================] - 3s 30ms/step - loss: 9.9998e-04 - val_loss: 0.0029\n",
      "Epoch 49/100\n",
      "1/1 [==============================] - 0s 17ms/sample - loss: 0.0029\n",
      "\n",
      "Epoch 00049: val_loss did not improve from 0.00273\n",
      "100/100 [==============================] - 3s 30ms/step - loss: 9.4972e-04 - val_loss: 0.0029\n",
      "Epoch 50/100\n",
      "1/1 [==============================] - 0s 20ms/sample - loss: 0.0030\n",
      "\n",
      "Epoch 00050: val_loss did not improve from 0.00273\n",
      "100/100 [==============================] - 3s 30ms/step - loss: 9.7320e-04 - val_loss: 0.0030\n",
      "Epoch 51/100\n",
      "1/1 [==============================] - 0s 17ms/sample - loss: 0.0030\n",
      "\n",
      "Epoch 00051: val_loss did not improve from 0.00273\n",
      "100/100 [==============================] - 3s 30ms/step - loss: 8.8397e-04 - val_loss: 0.0030\n",
      "Epoch 52/100\n",
      "1/1 [==============================] - 0s 17ms/sample - loss: 0.0029\n",
      "\n",
      "Epoch 00052: val_loss did not improve from 0.00273\n",
      "100/100 [==============================] - 3s 30ms/step - loss: 8.6444e-04 - val_loss: 0.0029\n",
      "Epoch 53/100\n",
      "1/1 [==============================] - 0s 17ms/sample - loss: 0.0035\n",
      "\n",
      "Epoch 00053: val_loss did not improve from 0.00273\n",
      "100/100 [==============================] - 3s 31ms/step - loss: 8.7987e-04 - val_loss: 0.0035\n",
      "Epoch 54/100\n",
      "1/1 [==============================] - 0s 17ms/sample - loss: 0.0027\n",
      "\n",
      "Epoch 00054: val_loss improved from 0.00273 to 0.00268, saving model to iq_checkpoint.keras\n",
      "100/100 [==============================] - 3s 30ms/step - loss: 8.1898e-04 - val_loss: 0.0027\n",
      "Epoch 55/100\n",
      "1/1 [==============================] - 0s 17ms/sample - loss: 0.0028\n",
      "\n",
      "Epoch 00055: val_loss did not improve from 0.00268\n",
      "100/100 [==============================] - 3s 30ms/step - loss: 7.5362e-04 - val_loss: 0.0028\n",
      "Epoch 56/100\n",
      "1/1 [==============================] - 0s 17ms/sample - loss: 0.0029\n",
      "\n",
      "Epoch 00056: val_loss did not improve from 0.00268\n",
      "100/100 [==============================] - 3s 31ms/step - loss: 8.2474e-04 - val_loss: 0.0029\n",
      "Epoch 57/100\n",
      "1/1 [==============================] - 0s 17ms/sample - loss: 0.0034\n",
      "\n",
      "Epoch 00057: val_loss did not improve from 0.00268\n",
      "100/100 [==============================] - 3s 31ms/step - loss: 7.6603e-04 - val_loss: 0.0034\n",
      "Epoch 58/100\n",
      "1/1 [==============================] - 0s 16ms/sample - loss: 0.0028\n",
      "\n",
      "Epoch 00058: val_loss did not improve from 0.00268\n",
      "100/100 [==============================] - 3s 30ms/step - loss: 7.6317e-04 - val_loss: 0.0028\n",
      "Epoch 59/100\n",
      "1/1 [==============================] - 0s 17ms/sample - loss: 0.0027\n",
      "\n",
      "Epoch 00059: val_loss did not improve from 0.00268\n",
      "100/100 [==============================] - 3s 31ms/step - loss: 7.3498e-04 - val_loss: 0.0027\n",
      "Epoch 60/100\n",
      "1/1 [==============================] - 0s 16ms/sample - loss: 0.0026\n",
      "\n",
      "Epoch 00060: val_loss improved from 0.00268 to 0.00265, saving model to iq_checkpoint.keras\n",
      "100/100 [==============================] - 3s 31ms/step - loss: 7.1094e-04 - val_loss: 0.0026\n",
      "Epoch 61/100\n",
      "1/1 [==============================] - 0s 17ms/sample - loss: 0.0028\n",
      "\n",
      "Epoch 00061: val_loss did not improve from 0.00265\n",
      "100/100 [==============================] - 3s 31ms/step - loss: 7.3381e-04 - val_loss: 0.0028\n",
      "Epoch 62/100\n",
      "1/1 [==============================] - 0s 18ms/sample - loss: 0.0028\n",
      "\n",
      "Epoch 00062: val_loss did not improve from 0.00265\n",
      "100/100 [==============================] - 3s 30ms/step - loss: 6.5898e-04 - val_loss: 0.0028\n",
      "Epoch 63/100\n",
      "1/1 [==============================] - 0s 18ms/sample - loss: 0.0027\n",
      "\n",
      "Epoch 00063: val_loss did not improve from 0.00265\n",
      "100/100 [==============================] - 3s 31ms/step - loss: 6.5244e-04 - val_loss: 0.0027\n",
      "Epoch 64/100\n",
      "1/1 [==============================] - 0s 16ms/sample - loss: 0.0027\n",
      "\n",
      "Epoch 00064: val_loss did not improve from 0.00265\n",
      "100/100 [==============================] - 3s 31ms/step - loss: 6.6225e-04 - val_loss: 0.0027\n",
      "Epoch 65/100\n",
      "1/1 [==============================] - 0s 20ms/sample - loss: 0.0028\n",
      "\n",
      "Epoch 00065: val_loss did not improve from 0.00265\n",
      "100/100 [==============================] - 3s 31ms/step - loss: 6.6493e-04 - val_loss: 0.0028\n",
      "Epoch 66/100\n",
      "1/1 [==============================] - 0s 17ms/sample - loss: 0.0031\n",
      "\n",
      "Epoch 00066: val_loss did not improve from 0.00265\n",
      "100/100 [==============================] - 3s 31ms/step - loss: 6.0261e-04 - val_loss: 0.0031\n",
      "Epoch 67/100\n",
      "1/1 [==============================] - 0s 19ms/sample - loss: 0.0030\n",
      "\n",
      "Epoch 00067: val_loss did not improve from 0.00265\n",
      "100/100 [==============================] - 3s 31ms/step - loss: 5.9756e-04 - val_loss: 0.0030\n",
      "Epoch 68/100\n",
      "1/1 [==============================] - 0s 16ms/sample - loss: 0.0027\n",
      "\n",
      "Epoch 00068: val_loss did not improve from 0.00265\n",
      "100/100 [==============================] - 3s 31ms/step - loss: 5.7246e-04 - val_loss: 0.0027\n",
      "Epoch 69/100\n",
      "1/1 [==============================] - 0s 18ms/sample - loss: 0.0028\n",
      "\n",
      "Epoch 00069: val_loss did not improve from 0.00265\n",
      "100/100 [==============================] - 3s 31ms/step - loss: 5.7710e-04 - val_loss: 0.0028\n",
      "Epoch 70/100\n",
      "1/1 [==============================] - 0s 17ms/sample - loss: 0.0029\n",
      "\n",
      "Epoch 00070: val_loss did not improve from 0.00265\n",
      "100/100 [==============================] - 3s 31ms/step - loss: 5.8538e-04 - val_loss: 0.0029\n",
      "Epoch 71/100\n",
      "1/1 [==============================] - 0s 21ms/sample - loss: 0.0031\n",
      "\n",
      "Epoch 00071: val_loss did not improve from 0.00265\n",
      "100/100 [==============================] - 3s 31ms/step - loss: 5.3904e-04 - val_loss: 0.0031\n",
      "Epoch 72/100\n",
      "1/1 [==============================] - 0s 18ms/sample - loss: 0.0031\n",
      "\n",
      "Epoch 00072: val_loss did not improve from 0.00265\n",
      "100/100 [==============================] - 3s 32ms/step - loss: 5.3241e-04 - val_loss: 0.0031\n",
      "Epoch 73/100\n",
      "1/1 [==============================] - 0s 27ms/sample - loss: 0.0031\n",
      "\n",
      "Epoch 00073: val_loss did not improve from 0.00265\n",
      "100/100 [==============================] - 3s 35ms/step - loss: 5.4170e-04 - val_loss: 0.0031\n",
      "Epoch 74/100\n",
      "1/1 [==============================] - 0s 17ms/sample - loss: 0.0030\n",
      "\n",
      "Epoch 00074: val_loss did not improve from 0.00265\n",
      "100/100 [==============================] - 3s 32ms/step - loss: 5.1302e-04 - val_loss: 0.0030\n",
      "Epoch 75/100\n",
      "1/1 [==============================] - 0s 17ms/sample - loss: 0.0033\n",
      "\n",
      "Epoch 00075: val_loss did not improve from 0.00265\n",
      "100/100 [==============================] - 3s 31ms/step - loss: 4.9006e-04 - val_loss: 0.0033\n",
      "Epoch 76/100\n",
      "1/1 [==============================] - 0s 23ms/sample - loss: 0.0032\n",
      "\n",
      "Epoch 00076: val_loss did not improve from 0.00265\n",
      "100/100 [==============================] - 3s 31ms/step - loss: 4.8458e-04 - val_loss: 0.0032\n",
      "Epoch 77/100\n",
      "1/1 [==============================] - 0s 18ms/sample - loss: 0.0033\n",
      "\n",
      "Epoch 00077: val_loss did not improve from 0.00265\n",
      "100/100 [==============================] - 3s 30ms/step - loss: 4.6690e-04 - val_loss: 0.0033\n",
      "Epoch 78/100\n",
      "1/1 [==============================] - 0s 19ms/sample - loss: 0.0032\n",
      "\n",
      "Epoch 00078: val_loss did not improve from 0.00265\n",
      "100/100 [==============================] - 3s 29ms/step - loss: 4.5844e-04 - val_loss: 0.0032\n",
      "Epoch 79/100\n",
      "1/1 [==============================] - 0s 20ms/sample - loss: 0.0034\n",
      "\n",
      "Epoch 00079: val_loss did not improve from 0.00265\n",
      "100/100 [==============================] - 3s 29ms/step - loss: 4.5380e-04 - val_loss: 0.0034\n",
      "Epoch 80/100\n",
      "1/1 [==============================] - 0s 16ms/sample - loss: 0.0033\n",
      "\n",
      "Epoch 00080: val_loss did not improve from 0.00265\n",
      "100/100 [==============================] - 3s 30ms/step - loss: 4.5081e-04 - val_loss: 0.0033\n",
      "Epoch 81/100\n",
      "1/1 [==============================] - 0s 17ms/sample - loss: 0.0032\n",
      "\n",
      "Epoch 00081: val_loss did not improve from 0.00265\n",
      "100/100 [==============================] - 3s 30ms/step - loss: 4.6280e-04 - val_loss: 0.0032\n",
      "Epoch 82/100\n",
      "1/1 [==============================] - 0s 17ms/sample - loss: 0.0032\n",
      "\n",
      "Epoch 00082: val_loss did not improve from 0.00265\n",
      "100/100 [==============================] - 3s 31ms/step - loss: 4.2327e-04 - val_loss: 0.0032\n",
      "Epoch 83/100\n",
      "1/1 [==============================] - 0s 17ms/sample - loss: 0.0034\n",
      "\n",
      "Epoch 00083: val_loss did not improve from 0.00265\n",
      "100/100 [==============================] - 3s 29ms/step - loss: 4.2053e-04 - val_loss: 0.0034\n",
      "Epoch 84/100\n",
      "1/1 [==============================] - 0s 17ms/sample - loss: 0.0044\n",
      "\n",
      "Epoch 00084: val_loss did not improve from 0.00265\n",
      "100/100 [==============================] - 3s 31ms/step - loss: 4.1192e-04 - val_loss: 0.0044\n",
      "Epoch 85/100\n",
      "1/1 [==============================] - 0s 23ms/sample - loss: 0.0032\n",
      "\n",
      "Epoch 00085: val_loss did not improve from 0.00265\n",
      "100/100 [==============================] - 3s 33ms/step - loss: 3.9701e-04 - val_loss: 0.0032\n",
      "Epoch 86/100\n",
      "1/1 [==============================] - 0s 20ms/sample - loss: 0.0032\n",
      "\n",
      "Epoch 00086: val_loss did not improve from 0.00265\n",
      "100/100 [==============================] - 4s 36ms/step - loss: 4.2598e-04 - val_loss: 0.0032\n",
      "Epoch 87/100\n",
      "1/1 [==============================] - 0s 18ms/sample - loss: 0.0032\n",
      "\n",
      "Epoch 00087: val_loss did not improve from 0.00265\n",
      "100/100 [==============================] - 3s 32ms/step - loss: 3.7579e-04 - val_loss: 0.0032\n",
      "Epoch 88/100\n",
      "1/1 [==============================] - 0s 18ms/sample - loss: 0.0031\n",
      "\n",
      "Epoch 00088: val_loss did not improve from 0.00265\n",
      "100/100 [==============================] - 3s 31ms/step - loss: 3.8148e-04 - val_loss: 0.0031\n",
      "Epoch 89/100\n",
      "1/1 [==============================] - 0s 16ms/sample - loss: 0.0032\n",
      "\n",
      "Epoch 00089: val_loss did not improve from 0.00265\n",
      "100/100 [==============================] - 3s 31ms/step - loss: 3.9738e-04 - val_loss: 0.0032\n",
      "Epoch 90/100\n",
      "1/1 [==============================] - 0s 19ms/sample - loss: 0.0032\n",
      "\n",
      "Epoch 00090: val_loss did not improve from 0.00265\n",
      "100/100 [==============================] - 3s 31ms/step - loss: 3.5662e-04 - val_loss: 0.0032\n",
      "Epoch 91/100\n",
      "1/1 [==============================] - 0s 18ms/sample - loss: 0.0032\n",
      "\n",
      "Epoch 00091: val_loss did not improve from 0.00265\n",
      "100/100 [==============================] - 3s 32ms/step - loss: 3.7282e-04 - val_loss: 0.0032\n",
      "Epoch 92/100\n",
      "1/1 [==============================] - 0s 25ms/sample - loss: 0.0031\n",
      "\n",
      "Epoch 00092: val_loss did not improve from 0.00265\n",
      "100/100 [==============================] - 3s 32ms/step - loss: 3.5010e-04 - val_loss: 0.0031\n",
      "Epoch 93/100\n",
      "1/1 [==============================] - 0s 17ms/sample - loss: 0.0034\n",
      "\n",
      "Epoch 00093: val_loss did not improve from 0.00265\n",
      "100/100 [==============================] - 3s 32ms/step - loss: 3.2886e-04 - val_loss: 0.0034\n",
      "Epoch 94/100\n",
      "1/1 [==============================] - 0s 23ms/sample - loss: 0.0046\n",
      "\n",
      "Epoch 00094: val_loss did not improve from 0.00265\n",
      "100/100 [==============================] - 3s 31ms/step - loss: 3.3022e-04 - val_loss: 0.0046\n",
      "Epoch 95/100\n",
      "1/1 [==============================] - 0s 28ms/sample - loss: 0.0034\n",
      "\n",
      "Epoch 00095: val_loss did not improve from 0.00265\n",
      "100/100 [==============================] - 3s 32ms/step - loss: 3.3097e-04 - val_loss: 0.0034\n",
      "Epoch 96/100\n",
      "1/1 [==============================] - 0s 17ms/sample - loss: 0.0032\n",
      "\n",
      "Epoch 00096: val_loss did not improve from 0.00265\n",
      "100/100 [==============================] - 3s 32ms/step - loss: 3.5542e-04 - val_loss: 0.0032\n",
      "Epoch 97/100\n",
      "1/1 [==============================] - 0s 16ms/sample - loss: 0.0034\n",
      "\n",
      "Epoch 00097: val_loss did not improve from 0.00265\n",
      "100/100 [==============================] - 3s 32ms/step - loss: 3.2740e-04 - val_loss: 0.0034\n",
      "Epoch 98/100\n",
      "1/1 [==============================] - 0s 18ms/sample - loss: 0.0030\n",
      "\n",
      "Epoch 00098: val_loss did not improve from 0.00265\n",
      "100/100 [==============================] - 3s 32ms/step - loss: 3.2641e-04 - val_loss: 0.0030\n",
      "Epoch 99/100\n",
      "1/1 [==============================] - 0s 23ms/sample - loss: 0.0035\n",
      "\n",
      "Epoch 00099: val_loss did not improve from 0.00265\n",
      "100/100 [==============================] - 3s 32ms/step - loss: 2.9099e-04 - val_loss: 0.0035\n",
      "Epoch 100/100\n",
      "1/1 [==============================] - 0s 18ms/sample - loss: 0.0035\n",
      "\n",
      "Epoch 00100: val_loss did not improve from 0.00265\n",
      "100/100 [==============================] - 3s 32ms/step - loss: 3.1233e-04 - val_loss: 0.0035\n",
      "CPU times: user 6min 43s, sys: 45.4 s, total: 7min 28s\n",
      "Wall time: 5min 7s\n"
     ]
    },
    {
     "data": {
      "text/plain": [
       "<tensorflow.python.keras.callbacks.History at 0x7fc56f8abc88>"
      ]
     },
     "execution_count": 53,
     "metadata": {},
     "output_type": "execute_result"
    }
   ],
   "source": [
    "%%time\n",
    "model.fit_generator(generator=generator,\n",
    "                    epochs=100,\n",
    "                    steps_per_epoch=100,\n",
    "                    validation_data=validation_data,\n",
    "                    callbacks=callbacks)"
   ]
  },
  {
   "cell_type": "code",
   "execution_count": 54,
   "metadata": {},
   "outputs": [],
   "source": [
    "try:\n",
    "    model.load_weights(path_checkpoint)\n",
    "except Exception as error:\n",
    "    print(\"Error trying to load checkpoint.\")\n",
    "    print(error)"
   ]
  },
  {
   "cell_type": "code",
   "execution_count": 55,
   "metadata": {},
   "outputs": [
    {
     "name": "stdout",
     "output_type": "stream",
     "text": [
      "1/1 [==============================] - 0s 19ms/sample - loss: 0.0026\n"
     ]
    }
   ],
   "source": [
    "result = model.evaluate(x=np.expand_dims(x_test_scaled, axis=0),\n",
    "                        y=np.expand_dims(y_test_scaled, axis=0))"
   ]
  },
  {
   "cell_type": "code",
   "execution_count": 56,
   "metadata": {},
   "outputs": [
    {
     "name": "stdout",
     "output_type": "stream",
     "text": [
      "loss (test-set): 0.0026460415683686733\n"
     ]
    }
   ],
   "source": [
    "print(\"loss (test-set):\", result)"
   ]
  },
  {
   "cell_type": "code",
   "execution_count": 57,
   "metadata": {},
   "outputs": [],
   "source": [
    "if False:\n",
    "    for res, metric in zip(result, model.metrics_names):\n",
    "        print(\"{0}: {1:.3e}\".format(metric, res))"
   ]
  },
  {
   "cell_type": "code",
   "execution_count": 58,
   "metadata": {},
   "outputs": [],
   "source": [
    "def plot_comparison(start_idx, length=5, train=False):\n",
    "    \"\"\"\n",
    "    Plot the predicted and true output-signals.\n",
    "    \n",
    "    :param start_idx: Start-index for the time-series.\n",
    "    :param length: Sequence-length to process and plot.\n",
    "    :param train: Boolean whether to use training- or test-set.\n",
    "    \"\"\"\n",
    "    \n",
    "    if train:\n",
    "        # Use training-data.\n",
    "        x = x_train_scaled\n",
    "        y_true = y_train\n",
    "    else:\n",
    "        # Use test-data.\n",
    "        x = x_test_scaled\n",
    "        y_true = y_test\n",
    "    \n",
    "    # End-index for the sequences.\n",
    "    end_idx = start_idx + length\n",
    "    \n",
    "    # Select the sequences from the given start-index and\n",
    "    # of the given length.\n",
    "    x = x[start_idx:end_idx]\n",
    "    y_true = y_true[start_idx:end_idx]\n",
    "    \n",
    "    # Input-signals for the model.\n",
    "    x = np.expand_dims(x, axis=0)\n",
    "\n",
    "    # Use the model to predict the output-signals.\n",
    "    y_pred = model.predict(x)\n",
    "    \n",
    "    # The output of the model is between 0 and 1.\n",
    "    # Do an inverse map to get it back to the scale\n",
    "    # of the original data-set.\n",
    "    y_pred_rescaled = y_scaler.inverse_transform(y_pred[0])\n",
    "\n",
    "    signal_pred = y_pred_rescaled[:]\n",
    "    signal_true = y_true[:]\n",
    "\n",
    "    # Make the plotting-canvas bigger.\n",
    "    plt.figure(figsize=(15,5))\n",
    "        \n",
    "    # Plot and compare the two signals.\n",
    "    plt.plot(signal_true, label='true')\n",
    "    plt.plot(signal_pred, label='pred')\n",
    "        \n",
    "    # Plot grey box for warmup-period.\n",
    "    p = plt.axvspan(0, warmup_steps, facecolor='black', alpha=0.15)\n",
    "        \n",
    "    # Plot labels etc.\n",
    "    plt.ylabel('total_cases')\n",
    "    plt.legend()\n",
    "    plt.show()"
   ]
  },
  {
   "cell_type": "code",
   "execution_count": 59,
   "metadata": {},
   "outputs": [
    {
     "data": {
      "image/png": "[encoded data removed]",
      "text/plain": [
       "<Figure size 1080x360 with 1 Axes>"
      ]
     },
     "metadata": {},
     "output_type": "display_data"
    }
   ],
   "source": [
    "plot_comparison(start_idx=10, length=500, train=True)"
   ]
  },
  {
   "cell_type": "code",
   "execution_count": 60,
   "metadata": {},
   "outputs": [],
   "source": [
    "test_sj = sj_testset.values[:]"
   ]
  },
  {
   "cell_type": "code",
   "execution_count": 61,
   "metadata": {},
   "outputs": [
    {
     "data": {
      "text/plain": [
       "(156, 15)"
      ]
     },
     "execution_count": 61,
     "metadata": {},
     "output_type": "execute_result"
    }
   ],
   "source": [
    "test_sj.shape"
   ]
  },
  {
   "cell_type": "code",
   "execution_count": 62,
   "metadata": {},
   "outputs": [],
   "source": [
    "test_sj_scaled = x_scaler.transform(test_sj)"
   ]
  },
  {
   "cell_type": "code",
   "execution_count": 63,
   "metadata": {},
   "outputs": [
    {
     "name": "stdout",
     "output_type": "stream",
     "text": [
      "Min: -0.07954545454545325\n",
      "Max: 1.0483941926968763\n"
     ]
    }
   ],
   "source": [
    "print(\"Min:\", np.min(test_sj_scaled))\n",
    "print(\"Max:\", np.max(test_sj_scaled))"
   ]
  },
  {
   "cell_type": "code",
   "execution_count": 64,
   "metadata": {},
   "outputs": [],
   "source": [
    "x = test_sj_scaled\n",
    "x = np.expand_dims(x, axis=0)\n",
    "y_pred = model.predict(x)\n",
    "y_pred_rescaled = y_scaler.inverse_transform(y_pred[0])\n"
   ]
  },
  {
   "cell_type": "code",
   "execution_count": 65,
   "metadata": {},
   "outputs": [
    {
     "data": {
      "text/plain": [
       "(156, 1)"
      ]
     },
     "execution_count": 65,
     "metadata": {},
     "output_type": "execute_result"
    }
   ],
   "source": [
    "y_pred_rescaled.shape"
   ]
  },
  {
   "cell_type": "code",
   "execution_count": 66,
   "metadata": {},
   "outputs": [],
   "source": [
    "y_pred_rescaled = y_pred_rescaled.astype(int)"
   ]
  },
  {
   "cell_type": "code",
   "execution_count": 67,
   "metadata": {},
   "outputs": [],
   "source": [
    "sj_sub = pd.DataFrame({'total_cases':y_pred_rescaled[:,0]})"
   ]
  },
  {
   "cell_type": "code",
   "execution_count": 68,
   "metadata": {},
   "outputs": [
    {
     "data": {
      "text/html": [
       "<div>\n",
       "<style scoped>\n",
       "    .dataframe tbody tr th:only-of-type {\n",
       "        vertical-align: middle;\n",
       "    }\n",
       "\n",
       "    .dataframe tbody tr th {\n",
       "        vertical-align: top;\n",
       "    }\n",
       "\n",
       "    .dataframe thead th {\n",
       "        text-align: right;\n",
       "    }\n",
       "</style>\n",
       "<table border=\"1\" class=\"dataframe\">\n",
       "  <thead>\n",
       "    <tr style=\"text-align: right;\">\n",
       "      <th></th>\n",
       "      <th>total_cases</th>\n",
       "    </tr>\n",
       "  </thead>\n",
       "  <tbody>\n",
       "    <tr>\n",
       "      <th>0</th>\n",
       "      <td>28</td>\n",
       "    </tr>\n",
       "    <tr>\n",
       "      <th>1</th>\n",
       "      <td>7</td>\n",
       "    </tr>\n",
       "    <tr>\n",
       "      <th>2</th>\n",
       "      <td>6</td>\n",
       "    </tr>\n",
       "    <tr>\n",
       "      <th>3</th>\n",
       "      <td>5</td>\n",
       "    </tr>\n",
       "    <tr>\n",
       "      <th>4</th>\n",
       "      <td>2</td>\n",
       "    </tr>\n",
       "  </tbody>\n",
       "</table>\n",
       "</div>"
      ],
      "text/plain": [
       "   total_cases\n",
       "0           28\n",
       "1            7\n",
       "2            6\n",
       "3            5\n",
       "4            2"
      ]
     },
     "execution_count": 68,
     "metadata": {},
     "output_type": "execute_result"
    }
   ],
   "source": [
    "sj_sub.head()"
   ]
  },
  {
   "cell_type": "code",
   "execution_count": 69,
   "metadata": {},
   "outputs": [],
   "source": [
    "sj_sub.to_csv('Submission_iq.csv', index = False)"
   ]
  },
  {
   "cell_type": "code",
   "execution_count": null,
   "metadata": {},
   "outputs": [],
   "source": []
  }
 ],
 "metadata": {
  "kernelspec": {
   "display_name": "Python 3",
   "language": "python",
   "name": "python3"
  },
  "language_info": {
   "codemirror_mode": {
    "name": "ipython",
    "version": 3
   },
   "file_extension": ".py",
   "mimetype": "text/x-python",
   "name": "python",
   "nbconvert_exporter": "python",
   "pygments_lexer": "ipython3",
   "version": "3.6.8"
  }
 },
 "nbformat": 4,
 "nbformat_minor": 2
}
