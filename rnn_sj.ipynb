{
 "cells": [
  {
   "cell_type": "code",
   "execution_count": 1,
   "metadata": {},
   "outputs": [],
   "source": [
    "import pandas as pd\n",
    "import numpy as np\n",
    "import seaborn as sns\n",
    "import matplotlib.pyplot as plt\n",
    "import tensorflow as tf\n",
    "from sklearn.preprocessing import MinMaxScaler\n",
    "%matplotlib inline"
   ]
  },
  {
   "cell_type": "code",
   "execution_count": 2,
   "metadata": {},
   "outputs": [],
   "source": [
    "from tensorflow.python.keras.models import Sequential\n",
    "from tensorflow.python.keras.layers import Input, Dense, GRU, Embedding\n",
    "from tensorflow.python.keras.optimizers import RMSprop\n",
    "from tensorflow.python.keras.callbacks import EarlyStopping, ModelCheckpoint, TensorBoard, ReduceLROnPlateau"
   ]
  },
  {
   "cell_type": "code",
   "execution_count": 3,
   "metadata": {},
   "outputs": [],
   "source": [
    "sj_dataset = pd.read_csv(filepath_or_buffer='custom_datasets/dataset_sj.csv')\n",
    "sj_testset = pd.read_csv(filepath_or_buffer='custom_datasets/testset_sj.csv')"
   ]
  },
  {
   "cell_type": "code",
   "execution_count": 4,
   "metadata": {},
   "outputs": [],
   "source": [
    "sj_dataset['week_start_date'] =  pd.to_datetime(sj_dataset['week_start_date'])\n",
    "sj_testset['week_start_date'] =  pd.to_datetime(sj_testset['week_start_date'])"
   ]
  },
  {
   "cell_type": "code",
   "execution_count": 5,
   "metadata": {},
   "outputs": [],
   "source": [
    "sj_dataset = sj_dataset.set_index('week_start_date')\n",
    "sj_testset = sj_testset.set_index('week_start_date')"
   ]
  },
  {
   "cell_type": "code",
   "execution_count": 6,
   "metadata": {},
   "outputs": [
    {
     "data": {
      "text/html": [
       "<div>\n",
       "<style scoped>\n",
       "    .dataframe tbody tr th:only-of-type {\n",
       "        vertical-align: middle;\n",
       "    }\n",
       "\n",
       "    .dataframe tbody tr th {\n",
       "        vertical-align: top;\n",
       "    }\n",
       "\n",
       "    .dataframe thead th {\n",
       "        text-align: right;\n",
       "    }\n",
       "</style>\n",
       "<table border=\"1\" class=\"dataframe\">\n",
       "  <thead>\n",
       "    <tr style=\"text-align: right;\">\n",
       "      <th></th>\n",
       "      <th>ndvi_ne</th>\n",
       "      <th>ndvi_nw</th>\n",
       "      <th>ndvi_se</th>\n",
       "      <th>precipitation_amt_mm</th>\n",
       "      <th>reanalysis_air_temp_k</th>\n",
       "      <th>reanalysis_precip_amt_kg_per_m2</th>\n",
       "      <th>reanalysis_relative_humidity_percent</th>\n",
       "      <th>reanalysis_tdtr_k</th>\n",
       "      <th>station_diur_temp_rng_c</th>\n",
       "      <th>station_max_temp_c</th>\n",
       "      <th>station_precip_mm</th>\n",
       "      <th>total_cases</th>\n",
       "    </tr>\n",
       "    <tr>\n",
       "      <th>week_start_date</th>\n",
       "      <th></th>\n",
       "      <th></th>\n",
       "      <th></th>\n",
       "      <th></th>\n",
       "      <th></th>\n",
       "      <th></th>\n",
       "      <th></th>\n",
       "      <th></th>\n",
       "      <th></th>\n",
       "      <th></th>\n",
       "      <th></th>\n",
       "      <th></th>\n",
       "    </tr>\n",
       "  </thead>\n",
       "  <tbody>\n",
       "    <tr>\n",
       "      <th>1990-04-30</th>\n",
       "      <td>0.122600</td>\n",
       "      <td>0.103725</td>\n",
       "      <td>0.198483</td>\n",
       "      <td>12.42</td>\n",
       "      <td>297.572857</td>\n",
       "      <td>32.00</td>\n",
       "      <td>73.365714</td>\n",
       "      <td>2.628571</td>\n",
       "      <td>6.900000</td>\n",
       "      <td>29.4</td>\n",
       "      <td>16.0</td>\n",
       "      <td>4</td>\n",
       "    </tr>\n",
       "    <tr>\n",
       "      <th>1990-05-07</th>\n",
       "      <td>0.169900</td>\n",
       "      <td>0.142175</td>\n",
       "      <td>0.162357</td>\n",
       "      <td>22.82</td>\n",
       "      <td>298.211429</td>\n",
       "      <td>17.94</td>\n",
       "      <td>77.368571</td>\n",
       "      <td>2.371429</td>\n",
       "      <td>6.371429</td>\n",
       "      <td>31.7</td>\n",
       "      <td>8.6</td>\n",
       "      <td>5</td>\n",
       "    </tr>\n",
       "    <tr>\n",
       "      <th>1990-05-14</th>\n",
       "      <td>0.032250</td>\n",
       "      <td>0.172967</td>\n",
       "      <td>0.157200</td>\n",
       "      <td>34.54</td>\n",
       "      <td>298.781429</td>\n",
       "      <td>26.10</td>\n",
       "      <td>82.052857</td>\n",
       "      <td>2.300000</td>\n",
       "      <td>6.485714</td>\n",
       "      <td>32.2</td>\n",
       "      <td>41.4</td>\n",
       "      <td>4</td>\n",
       "    </tr>\n",
       "    <tr>\n",
       "      <th>1990-05-21</th>\n",
       "      <td>0.128633</td>\n",
       "      <td>0.245067</td>\n",
       "      <td>0.227557</td>\n",
       "      <td>15.36</td>\n",
       "      <td>298.987143</td>\n",
       "      <td>13.90</td>\n",
       "      <td>80.337143</td>\n",
       "      <td>2.428571</td>\n",
       "      <td>6.771429</td>\n",
       "      <td>33.3</td>\n",
       "      <td>4.0</td>\n",
       "      <td>3</td>\n",
       "    </tr>\n",
       "    <tr>\n",
       "      <th>1990-05-28</th>\n",
       "      <td>0.196200</td>\n",
       "      <td>0.262200</td>\n",
       "      <td>0.251200</td>\n",
       "      <td>7.52</td>\n",
       "      <td>299.518571</td>\n",
       "      <td>12.20</td>\n",
       "      <td>80.460000</td>\n",
       "      <td>3.014286</td>\n",
       "      <td>9.371429</td>\n",
       "      <td>35.0</td>\n",
       "      <td>5.8</td>\n",
       "      <td>6</td>\n",
       "    </tr>\n",
       "  </tbody>\n",
       "</table>\n",
       "</div>"
      ],
      "text/plain": [
       "                  ndvi_ne   ndvi_nw   ndvi_se  precipitation_amt_mm  \\\n",
       "week_start_date                                                       \n",
       "1990-04-30       0.122600  0.103725  0.198483                 12.42   \n",
       "1990-05-07       0.169900  0.142175  0.162357                 22.82   \n",
       "1990-05-14       0.032250  0.172967  0.157200                 34.54   \n",
       "1990-05-21       0.128633  0.245067  0.227557                 15.36   \n",
       "1990-05-28       0.196200  0.262200  0.251200                  7.52   \n",
       "\n",
       "                 reanalysis_air_temp_k  reanalysis_precip_amt_kg_per_m2  \\\n",
       "week_start_date                                                           \n",
       "1990-04-30                  297.572857                            32.00   \n",
       "1990-05-07                  298.211429                            17.94   \n",
       "1990-05-14                  298.781429                            26.10   \n",
       "1990-05-21                  298.987143                            13.90   \n",
       "1990-05-28                  299.518571                            12.20   \n",
       "\n",
       "                 reanalysis_relative_humidity_percent  reanalysis_tdtr_k  \\\n",
       "week_start_date                                                            \n",
       "1990-04-30                                  73.365714           2.628571   \n",
       "1990-05-07                                  77.368571           2.371429   \n",
       "1990-05-14                                  82.052857           2.300000   \n",
       "1990-05-21                                  80.337143           2.428571   \n",
       "1990-05-28                                  80.460000           3.014286   \n",
       "\n",
       "                 station_diur_temp_rng_c  station_max_temp_c  \\\n",
       "week_start_date                                                \n",
       "1990-04-30                      6.900000                29.4   \n",
       "1990-05-07                      6.371429                31.7   \n",
       "1990-05-14                      6.485714                32.2   \n",
       "1990-05-21                      6.771429                33.3   \n",
       "1990-05-28                      9.371429                35.0   \n",
       "\n",
       "                 station_precip_mm  total_cases  \n",
       "week_start_date                                  \n",
       "1990-04-30                    16.0            4  \n",
       "1990-05-07                     8.6            5  \n",
       "1990-05-14                    41.4            4  \n",
       "1990-05-21                     4.0            3  \n",
       "1990-05-28                     5.8            6  "
      ]
     },
     "execution_count": 6,
     "metadata": {},
     "output_type": "execute_result"
    }
   ],
   "source": [
    "sj_dataset.head()"
   ]
  },
  {
   "cell_type": "code",
   "execution_count": 7,
   "metadata": {},
   "outputs": [],
   "source": [
    "sj_train = sj_dataset.copy()\n",
    "sj_train.drop(['total_cases'],axis=1,inplace=True)"
   ]
  },
  {
   "cell_type": "code",
   "execution_count": 8,
   "metadata": {},
   "outputs": [
    {
     "data": {
      "text/plain": [
       "(930, 11)"
      ]
     },
     "execution_count": 8,
     "metadata": {},
     "output_type": "execute_result"
    }
   ],
   "source": [
    "sj_train.shape"
   ]
  },
  {
   "cell_type": "code",
   "execution_count": 9,
   "metadata": {},
   "outputs": [],
   "source": [
    "sj_target = pd.DataFrame()\n",
    "sj_target['total_cases'] = sj_dataset['total_cases']"
   ]
  },
  {
   "cell_type": "code",
   "execution_count": 10,
   "metadata": {},
   "outputs": [
    {
     "data": {
      "text/html": [
       "<div>\n",
       "<style scoped>\n",
       "    .dataframe tbody tr th:only-of-type {\n",
       "        vertical-align: middle;\n",
       "    }\n",
       "\n",
       "    .dataframe tbody tr th {\n",
       "        vertical-align: top;\n",
       "    }\n",
       "\n",
       "    .dataframe thead th {\n",
       "        text-align: right;\n",
       "    }\n",
       "</style>\n",
       "<table border=\"1\" class=\"dataframe\">\n",
       "  <thead>\n",
       "    <tr style=\"text-align: right;\">\n",
       "      <th></th>\n",
       "      <th>total_cases</th>\n",
       "    </tr>\n",
       "    <tr>\n",
       "      <th>week_start_date</th>\n",
       "      <th></th>\n",
       "    </tr>\n",
       "  </thead>\n",
       "  <tbody>\n",
       "    <tr>\n",
       "      <th>1990-04-30</th>\n",
       "      <td>4</td>\n",
       "    </tr>\n",
       "    <tr>\n",
       "      <th>1990-05-07</th>\n",
       "      <td>5</td>\n",
       "    </tr>\n",
       "    <tr>\n",
       "      <th>1990-05-14</th>\n",
       "      <td>4</td>\n",
       "    </tr>\n",
       "    <tr>\n",
       "      <th>1990-05-21</th>\n",
       "      <td>3</td>\n",
       "    </tr>\n",
       "    <tr>\n",
       "      <th>1990-05-28</th>\n",
       "      <td>6</td>\n",
       "    </tr>\n",
       "  </tbody>\n",
       "</table>\n",
       "</div>"
      ],
      "text/plain": [
       "                 total_cases\n",
       "week_start_date             \n",
       "1990-04-30                 4\n",
       "1990-05-07                 5\n",
       "1990-05-14                 4\n",
       "1990-05-21                 3\n",
       "1990-05-28                 6"
      ]
     },
     "execution_count": 10,
     "metadata": {},
     "output_type": "execute_result"
    }
   ],
   "source": [
    "sj_target.head()"
   ]
  },
  {
   "cell_type": "code",
   "execution_count": 11,
   "metadata": {},
   "outputs": [],
   "source": [
    "x_data = sj_train.values[:]"
   ]
  },
  {
   "cell_type": "code",
   "execution_count": 12,
   "metadata": {},
   "outputs": [
    {
     "name": "stdout",
     "output_type": "stream",
     "text": [
      "<class 'numpy.ndarray'>\n",
      "Shape: (930, 11)\n"
     ]
    }
   ],
   "source": [
    "print(type(x_data))\n",
    "print(\"Shape:\", x_data.shape)"
   ]
  },
  {
   "cell_type": "code",
   "execution_count": 13,
   "metadata": {},
   "outputs": [],
   "source": [
    "y_data = sj_target.values"
   ]
  },
  {
   "cell_type": "code",
   "execution_count": 14,
   "metadata": {},
   "outputs": [
    {
     "name": "stdout",
     "output_type": "stream",
     "text": [
      "<class 'numpy.ndarray'>\n",
      "Shape: (930, 1)\n"
     ]
    }
   ],
   "source": [
    "print(type(y_data))\n",
    "print(\"Shape:\", y_data.shape)"
   ]
  },
  {
   "cell_type": "code",
   "execution_count": 15,
   "metadata": {},
   "outputs": [
    {
     "data": {
      "text/plain": [
       "930"
      ]
     },
     "execution_count": 15,
     "metadata": {},
     "output_type": "execute_result"
    }
   ],
   "source": [
    "num_data = len(x_data)\n",
    "num_data"
   ]
  },
  {
   "cell_type": "code",
   "execution_count": 16,
   "metadata": {},
   "outputs": [],
   "source": [
    "train_split = 0.85"
   ]
  },
  {
   "cell_type": "code",
   "execution_count": 17,
   "metadata": {},
   "outputs": [
    {
     "data": {
      "text/plain": [
       "790"
      ]
     },
     "execution_count": 17,
     "metadata": {},
     "output_type": "execute_result"
    }
   ],
   "source": [
    "num_train = int(train_split * num_data)\n",
    "num_train"
   ]
  },
  {
   "cell_type": "code",
   "execution_count": 18,
   "metadata": {},
   "outputs": [
    {
     "data": {
      "text/plain": [
       "140"
      ]
     },
     "execution_count": 18,
     "metadata": {},
     "output_type": "execute_result"
    }
   ],
   "source": [
    "num_test = num_data - num_train\n",
    "num_test"
   ]
  },
  {
   "cell_type": "code",
   "execution_count": 19,
   "metadata": {},
   "outputs": [
    {
     "data": {
      "text/plain": [
       "930"
      ]
     },
     "execution_count": 19,
     "metadata": {},
     "output_type": "execute_result"
    }
   ],
   "source": [
    "x_train = x_data[0:num_train]\n",
    "x_test = x_data[num_train:]\n",
    "len(x_train) + len(x_test)"
   ]
  },
  {
   "cell_type": "code",
   "execution_count": 20,
   "metadata": {},
   "outputs": [
    {
     "data": {
      "text/plain": [
       "930"
      ]
     },
     "execution_count": 20,
     "metadata": {},
     "output_type": "execute_result"
    }
   ],
   "source": [
    "y_train = y_data[0:num_train]\n",
    "y_test = y_data[num_train:]\n",
    "len(y_train) + len(y_test)"
   ]
  },
  {
   "cell_type": "code",
   "execution_count": 21,
   "metadata": {},
   "outputs": [
    {
     "data": {
      "text/plain": [
       "11"
      ]
     },
     "execution_count": 21,
     "metadata": {},
     "output_type": "execute_result"
    }
   ],
   "source": [
    "num_x_signals = x_data.shape[1]\n",
    "num_x_signals"
   ]
  },
  {
   "cell_type": "code",
   "execution_count": 22,
   "metadata": {},
   "outputs": [
    {
     "data": {
      "text/plain": [
       "1"
      ]
     },
     "execution_count": 22,
     "metadata": {},
     "output_type": "execute_result"
    }
   ],
   "source": [
    "num_y_signals = y_data.shape[1]\n",
    "num_y_signals"
   ]
  },
  {
   "cell_type": "code",
   "execution_count": 23,
   "metadata": {},
   "outputs": [
    {
     "name": "stdout",
     "output_type": "stream",
     "text": [
      "Min: -0.40625\n",
      "Max: 570.5\n"
     ]
    }
   ],
   "source": [
    "print(\"Min:\", np.min(x_train))\n",
    "print(\"Max:\", np.max(x_train))"
   ]
  },
  {
   "cell_type": "code",
   "execution_count": 24,
   "metadata": {},
   "outputs": [],
   "source": [
    "x_scaler = MinMaxScaler()"
   ]
  },
  {
   "cell_type": "code",
   "execution_count": 25,
   "metadata": {},
   "outputs": [],
   "source": [
    "x_train_scaled = x_scaler.fit_transform(x_train)"
   ]
  },
  {
   "cell_type": "code",
   "execution_count": 26,
   "metadata": {},
   "outputs": [
    {
     "name": "stdout",
     "output_type": "stream",
     "text": [
      "Min: 0.0\n",
      "Max: 1.0\n"
     ]
    }
   ],
   "source": [
    "print(\"Min:\", np.min(x_train_scaled))\n",
    "print(\"Max:\", np.max(x_train_scaled))"
   ]
  },
  {
   "cell_type": "code",
   "execution_count": 27,
   "metadata": {},
   "outputs": [],
   "source": [
    "x_test_scaled = x_scaler.transform(x_test)"
   ]
  },
  {
   "cell_type": "code",
   "execution_count": 28,
   "metadata": {},
   "outputs": [
    {
     "name": "stderr",
     "output_type": "stream",
     "text": [
      "/home/chamath/anaconda3/lib/python3.6/site-packages/sklearn/utils/validation.py:595: DataConversionWarning: Data with input dtype int64 was converted to float64 by MinMaxScaler.\n",
      "  warnings.warn(msg, DataConversionWarning)\n"
     ]
    }
   ],
   "source": [
    "y_scaler = MinMaxScaler()\n",
    "y_train_scaled = y_scaler.fit_transform(y_train)\n",
    "y_test_scaled = y_scaler.transform(y_test)"
   ]
  },
  {
   "cell_type": "code",
   "execution_count": 29,
   "metadata": {},
   "outputs": [
    {
     "name": "stdout",
     "output_type": "stream",
     "text": [
      "(790, 11)\n",
      "(790, 1)\n"
     ]
    }
   ],
   "source": [
    "print(x_train_scaled.shape)\n",
    "print(y_train_scaled.shape)"
   ]
  },
  {
   "cell_type": "code",
   "execution_count": 30,
   "metadata": {},
   "outputs": [],
   "source": [
    "def batch_generator(batch_size, sequence_length):\n",
    "    \"\"\"\n",
    "    Generator function for creating random batches of training-data.\n",
    "    \"\"\"\n",
    "\n",
    "    # Infinite loop.\n",
    "    while True:\n",
    "        # Allocate a new array for the batch of input-signals.\n",
    "        x_shape = (batch_size, sequence_length, num_x_signals)\n",
    "        x_batch = np.zeros(shape=x_shape, dtype=np.float16)\n",
    "\n",
    "        # Allocate a new array for the batch of output-signals.\n",
    "        y_shape = (batch_size, sequence_length, num_y_signals)\n",
    "        y_batch = np.zeros(shape=y_shape, dtype=np.float16)\n",
    "\n",
    "        # Fill the batch with random sequences of data.\n",
    "        for i in range(batch_size):\n",
    "            # Get a random start-index.\n",
    "            # This points somewhere into the training-data.\n",
    "            idx = np.random.randint(num_train - sequence_length)\n",
    "            \n",
    "            # Copy the sequences of data starting at this index.\n",
    "            x_batch[i] = x_train_scaled[idx:idx+sequence_length]\n",
    "            y_batch[i] = y_train_scaled[idx:idx+sequence_length]\n",
    "        \n",
    "        yield (x_batch, y_batch)"
   ]
  },
  {
   "cell_type": "code",
   "execution_count": 31,
   "metadata": {},
   "outputs": [],
   "source": [
    "batch_size = 10"
   ]
  },
  {
   "cell_type": "code",
   "execution_count": 32,
   "metadata": {},
   "outputs": [
    {
     "data": {
      "text/plain": [
       "52"
      ]
     },
     "execution_count": 32,
     "metadata": {},
     "output_type": "execute_result"
    }
   ],
   "source": [
    "sequence_length =  52\n",
    "sequence_length"
   ]
  },
  {
   "cell_type": "code",
   "execution_count": 33,
   "metadata": {},
   "outputs": [],
   "source": [
    "generator = batch_generator(batch_size=batch_size,\n",
    "                            sequence_length=sequence_length)"
   ]
  },
  {
   "cell_type": "code",
   "execution_count": 34,
   "metadata": {},
   "outputs": [],
   "source": [
    "x_batch, y_batch = next(generator)"
   ]
  },
  {
   "cell_type": "code",
   "execution_count": 35,
   "metadata": {},
   "outputs": [
    {
     "name": "stdout",
     "output_type": "stream",
     "text": [
      "(10, 52, 11)\n",
      "(10, 52, 1)\n"
     ]
    }
   ],
   "source": [
    "print(x_batch.shape)\n",
    "print(y_batch.shape)"
   ]
  },
  {
   "cell_type": "code",
   "execution_count": 36,
   "metadata": {},
   "outputs": [
    {
     "data": {
      "text/plain": [
       "[<matplotlib.lines.Line2D at 0x7f4a027a49e8>]"
      ]
     },
     "execution_count": 36,
     "metadata": {},
     "output_type": "execute_result"
    },
    {
     "data": {
      "image/png": "[encoded data removed]",
      "text/plain": [
       "<Figure size 432x288 with 1 Axes>"
      ]
     },
     "metadata": {},
     "output_type": "display_data"
    }
   ],
   "source": [
    "batch = 0   # First sequence in the batch.\n",
    "signal = 0  # First signal from the 20 input-signals.\n",
    "seq = x_batch[batch, :, signal]\n",
    "plt.plot(seq)"
   ]
  },
  {
   "cell_type": "code",
   "execution_count": 37,
   "metadata": {},
   "outputs": [
    {
     "data": {
      "text/plain": [
       "[<matplotlib.lines.Line2D at 0x7f4a026b14a8>]"
      ]
     },
     "execution_count": 37,
     "metadata": {},
     "output_type": "execute_result"
    },
    {
     "data": {
      "image/png": "[encoded data removed]",
      "text/plain": [
       "<Figure size 432x288 with 1 Axes>"
      ]
     },
     "metadata": {},
     "output_type": "display_data"
    }
   ],
   "source": [
    "seq = y_batch[batch, :, signal]\n",
    "plt.plot(seq)"
   ]
  },
  {
   "cell_type": "code",
   "execution_count": 38,
   "metadata": {},
   "outputs": [],
   "source": [
    "validation_data = (np.expand_dims(x_test_scaled, axis=0),\n",
    "                   np.expand_dims(y_test_scaled, axis=0))"
   ]
  },
  {
   "cell_type": "code",
   "execution_count": 39,
   "metadata": {},
   "outputs": [],
   "source": [
    "model = Sequential()"
   ]
  },
  {
   "cell_type": "code",
   "execution_count": 40,
   "metadata": {},
   "outputs": [
    {
     "name": "stdout",
     "output_type": "stream",
     "text": [
      "WARNING:tensorflow:From /home/chamath/anaconda3/lib/python3.6/site-packages/tensorflow/python/ops/resource_variable_ops.py:435: colocate_with (from tensorflow.python.framework.ops) is deprecated and will be removed in a future version.\n",
      "Instructions for updating:\n",
      "Colocations handled automatically by placer.\n"
     ]
    }
   ],
   "source": [
    "model.add(GRU(units=512,\n",
    "              return_sequences=True,\n",
    "              input_shape=(None, num_x_signals,)))"
   ]
  },
  {
   "cell_type": "code",
   "execution_count": 41,
   "metadata": {},
   "outputs": [],
   "source": [
    "model.add(Dense(num_y_signals, activation='sigmoid'))"
   ]
  },
  {
   "cell_type": "code",
   "execution_count": 42,
   "metadata": {},
   "outputs": [],
   "source": [
    "if False:\n",
    "    from tensorflow.python.keras.initializers import RandomUniform\n",
    "\n",
    "    # Maybe use lower init-ranges.\n",
    "    init = RandomUniform(minval=-0.05, maxval=0.05)\n",
    "\n",
    "    model.add(Dense(num_y_signals,\n",
    "                    activation='linear',\n",
    "                    kernel_initializer=init))"
   ]
  },
  {
   "cell_type": "code",
   "execution_count": 43,
   "metadata": {},
   "outputs": [],
   "source": [
    "warmup_steps = 0"
   ]
  },
  {
   "cell_type": "code",
   "execution_count": 44,
   "metadata": {},
   "outputs": [],
   "source": [
    "def loss_mse_warmup(y_true, y_pred):\n",
    "    \"\"\"\n",
    "    Calculate the Mean Squared Error between y_true and y_pred,\n",
    "    but ignore the beginning \"warmup\" part of the sequences.\n",
    "    \n",
    "    y_true is the desired output.\n",
    "    y_pred is the model's output.\n",
    "    \"\"\"\n",
    "\n",
    "    # The shape of both input tensors are:\n",
    "    # [batch_size, sequence_length, num_y_signals].\n",
    "\n",
    "    # Ignore the \"warmup\" parts of the sequences\n",
    "    # by taking slices of the tensors.\n",
    "    y_true_slice = y_true[:, warmup_steps:, :]\n",
    "    y_pred_slice = y_pred[:, warmup_steps:, :]\n",
    "\n",
    "    # These sliced tensors both have this shape:\n",
    "    # [batch_size, sequence_length - warmup_steps, num_y_signals]\n",
    "\n",
    "    # Calculate the MSE loss for each value in these tensors.\n",
    "    # This outputs a 3-rank tensor of the same shape.\n",
    "    loss = tf.losses.mean_squared_error(labels=y_true_slice,\n",
    "                                        predictions=y_pred_slice)\n",
    "\n",
    "    # Keras may reduce this across the first axis (the batch)\n",
    "    # but the semantics are unclear, so to be sure we use\n",
    "    # the loss across the entire tensor, we reduce it to a\n",
    "    # single scalar with the mean function.\n",
    "    loss_mean = tf.reduce_mean(loss)\n",
    "\n",
    "    return loss_mean"
   ]
  },
  {
   "cell_type": "code",
   "execution_count": 45,
   "metadata": {},
   "outputs": [],
   "source": [
    "optimizer = RMSprop(lr=1e-3)"
   ]
  },
  {
   "cell_type": "code",
   "execution_count": 46,
   "metadata": {},
   "outputs": [
    {
     "name": "stdout",
     "output_type": "stream",
     "text": [
      "WARNING:tensorflow:From /home/chamath/anaconda3/lib/python3.6/site-packages/tensorflow/python/ops/losses/losses_impl.py:667: to_float (from tensorflow.python.ops.math_ops) is deprecated and will be removed in a future version.\n",
      "Instructions for updating:\n",
      "Use tf.cast instead.\n"
     ]
    }
   ],
   "source": [
    "model.compile(loss=loss_mse_warmup, optimizer=optimizer)"
   ]
  },
  {
   "cell_type": "code",
   "execution_count": 47,
   "metadata": {},
   "outputs": [
    {
     "name": "stdout",
     "output_type": "stream",
     "text": [
      "_________________________________________________________________\n",
      "Layer (type)                 Output Shape              Param #   \n",
      "=================================================================\n",
      "gru (GRU)                    (None, None, 512)         804864    \n",
      "_________________________________________________________________\n",
      "dense (Dense)                (None, None, 1)           513       \n",
      "=================================================================\n",
      "Total params: 805,377\n",
      "Trainable params: 805,377\n",
      "Non-trainable params: 0\n",
      "_________________________________________________________________\n"
     ]
    }
   ],
   "source": [
    "model.summary()"
   ]
  },
  {
   "cell_type": "code",
   "execution_count": 48,
   "metadata": {},
   "outputs": [],
   "source": [
    "path_checkpoint = 'checkpoint_sj.keras'\n",
    "callback_checkpoint = ModelCheckpoint(filepath=path_checkpoint,\n",
    "                                      monitor='val_loss',\n",
    "                                      verbose=1,\n",
    "                                      save_weights_only=True,\n",
    "                                      save_best_only=True)"
   ]
  },
  {
   "cell_type": "code",
   "execution_count": 49,
   "metadata": {},
   "outputs": [],
   "source": [
    "callback_early_stopping = EarlyStopping(monitor='val_loss',\n",
    "                                        patience=10, verbose=1)"
   ]
  },
  {
   "cell_type": "code",
   "execution_count": 50,
   "metadata": {},
   "outputs": [],
   "source": [
    "callback_tensorboard = TensorBoard(log_dir='./sj_logs/',\n",
    "                                   histogram_freq=0,\n",
    "                                   write_graph=False)"
   ]
  },
  {
   "cell_type": "code",
   "execution_count": 51,
   "metadata": {},
   "outputs": [],
   "source": [
    "callback_reduce_lr = ReduceLROnPlateau(monitor='val_loss',\n",
    "                                       factor=0.1,\n",
    "                                       min_lr=1e-4,\n",
    "                                       patience=3,\n",
    "                                       verbose=1)"
   ]
  },
  {
   "cell_type": "code",
   "execution_count": 52,
   "metadata": {},
   "outputs": [],
   "source": [
    "callbacks = [\n",
    "             callback_checkpoint,\n",
    "             callback_tensorboard,\n",
    "             ]"
   ]
  },
  {
   "cell_type": "code",
   "execution_count": 53,
   "metadata": {},
   "outputs": [
    {
     "name": "stdout",
     "output_type": "stream",
     "text": [
      "Epoch 1/100\n",
      "1/1 [==============================] - 0s 74ms/sample - loss: 0.0054\n",
      "\n",
      "Epoch 00001: val_loss improved from inf to 0.00537, saving model to checkpoint_sj.keras\n",
      "100/100 [==============================] - 6s 60ms/step - loss: 0.0187 - val_loss: 0.0054\n",
      "Epoch 2/100\n",
      "1/1 [==============================] - 0s 25ms/sample - loss: 0.0067\n",
      "\n",
      "Epoch 00002: val_loss did not improve from 0.00537\n",
      "100/100 [==============================] - 5s 48ms/step - loss: 0.0137 - val_loss: 0.0067\n",
      "Epoch 3/100\n",
      "1/1 [==============================] - 0s 26ms/sample - loss: 0.0051\n",
      "\n",
      "Epoch 00003: val_loss improved from 0.00537 to 0.00511, saving model to checkpoint_sj.keras\n",
      "100/100 [==============================] - 5s 48ms/step - loss: 0.0131 - val_loss: 0.0051\n",
      "Epoch 4/100\n",
      "1/1 [==============================] - 0s 26ms/sample - loss: 0.0042\n",
      "\n",
      "Epoch 00004: val_loss improved from 0.00511 to 0.00422, saving model to checkpoint_sj.keras\n",
      "100/100 [==============================] - 5s 50ms/step - loss: 0.0123 - val_loss: 0.0042\n",
      "Epoch 5/100\n",
      "1/1 [==============================] - 0s 26ms/sample - loss: 0.0044\n",
      "\n",
      "Epoch 00005: val_loss did not improve from 0.00422\n",
      "100/100 [==============================] - 5s 50ms/step - loss: 0.0119 - val_loss: 0.0044\n",
      "Epoch 6/100\n",
      "1/1 [==============================] - 0s 26ms/sample - loss: 0.0036\n",
      "\n",
      "Epoch 00006: val_loss improved from 0.00422 to 0.00357, saving model to checkpoint_sj.keras\n",
      "100/100 [==============================] - 5s 50ms/step - loss: 0.0109 - val_loss: 0.0036\n",
      "Epoch 7/100\n",
      "1/1 [==============================] - 0s 26ms/sample - loss: 0.0034\n",
      "\n",
      "Epoch 00007: val_loss improved from 0.00357 to 0.00337, saving model to checkpoint_sj.keras\n",
      "100/100 [==============================] - 5s 50ms/step - loss: 0.0090 - val_loss: 0.0034\n",
      "Epoch 8/100\n",
      "1/1 [==============================] - 0s 26ms/sample - loss: 0.0060\n",
      "\n",
      "Epoch 00008: val_loss did not improve from 0.00337\n",
      "100/100 [==============================] - 5s 52ms/step - loss: 0.0074 - val_loss: 0.0060\n",
      "Epoch 9/100\n",
      "1/1 [==============================] - 0s 27ms/sample - loss: 0.0037\n",
      "\n",
      "Epoch 00009: val_loss did not improve from 0.00337\n",
      "100/100 [==============================] - 5s 52ms/step - loss: 0.0070 - val_loss: 0.0037\n",
      "Epoch 10/100\n",
      "1/1 [==============================] - 0s 38ms/sample - loss: 0.0028\n",
      "\n",
      "Epoch 00010: val_loss improved from 0.00337 to 0.00283, saving model to checkpoint_sj.keras\n",
      "100/100 [==============================] - 6s 59ms/step - loss: 0.0061 - val_loss: 0.0028\n",
      "Epoch 11/100\n",
      "1/1 [==============================] - 0s 30ms/sample - loss: 0.0142\n",
      "\n",
      "Epoch 00011: val_loss did not improve from 0.00283\n",
      "100/100 [==============================] - 6s 57ms/step - loss: 0.0058 - val_loss: 0.0142\n",
      "Epoch 12/100\n",
      "1/1 [==============================] - 0s 29ms/sample - loss: 0.0038\n",
      "\n",
      "Epoch 00012: val_loss did not improve from 0.00283\n",
      "100/100 [==============================] - 6s 56ms/step - loss: 0.0054 - val_loss: 0.0038\n",
      "Epoch 13/100\n",
      "1/1 [==============================] - 0s 27ms/sample - loss: 0.0035\n",
      "\n",
      "Epoch 00013: val_loss did not improve from 0.00283\n",
      "100/100 [==============================] - 5s 54ms/step - loss: 0.0047 - val_loss: 0.0035\n",
      "Epoch 14/100\n",
      "1/1 [==============================] - 0s 27ms/sample - loss: 0.0047\n",
      "\n",
      "Epoch 00014: val_loss did not improve from 0.00283\n",
      "100/100 [==============================] - 5s 52ms/step - loss: 0.0037 - val_loss: 0.0047\n",
      "Epoch 15/100\n",
      "1/1 [==============================] - 0s 28ms/sample - loss: 0.0055\n",
      "\n",
      "Epoch 00015: val_loss did not improve from 0.00283\n",
      "100/100 [==============================] - 5s 53ms/step - loss: 0.0035 - val_loss: 0.0055\n",
      "Epoch 16/100\n",
      "1/1 [==============================] - 0s 26ms/sample - loss: 0.0060\n",
      "\n",
      "Epoch 00016: val_loss did not improve from 0.00283\n",
      "100/100 [==============================] - 5s 52ms/step - loss: 0.0032 - val_loss: 0.0060\n",
      "Epoch 17/100\n",
      "1/1 [==============================] - 0s 28ms/sample - loss: 0.0062\n",
      "\n",
      "Epoch 00017: val_loss did not improve from 0.00283\n",
      "100/100 [==============================] - 5s 53ms/step - loss: 0.0030 - val_loss: 0.0062\n",
      "Epoch 18/100\n",
      "1/1 [==============================] - 0s 26ms/sample - loss: 0.0065\n",
      "\n",
      "Epoch 00018: val_loss did not improve from 0.00283\n",
      "100/100 [==============================] - 5s 53ms/step - loss: 0.0025 - val_loss: 0.0065\n",
      "Epoch 19/100\n",
      "1/1 [==============================] - 0s 30ms/sample - loss: 0.0060\n",
      "\n",
      "Epoch 00019: val_loss did not improve from 0.00283\n",
      "100/100 [==============================] - 5s 54ms/step - loss: 0.0031 - val_loss: 0.0060\n",
      "Epoch 20/100\n",
      "1/1 [==============================] - 0s 27ms/sample - loss: 0.0054\n",
      "\n",
      "Epoch 00020: val_loss did not improve from 0.00283\n",
      "100/100 [==============================] - 6s 56ms/step - loss: 0.0024 - val_loss: 0.0054\n",
      "Epoch 21/100\n",
      "1/1 [==============================] - 0s 28ms/sample - loss: 0.0058\n",
      "\n",
      "Epoch 00021: val_loss did not improve from 0.00283\n",
      "100/100 [==============================] - 5s 55ms/step - loss: 0.0022 - val_loss: 0.0058\n",
      "Epoch 22/100\n",
      "1/1 [==============================] - 0s 28ms/sample - loss: 0.0069\n",
      "\n",
      "Epoch 00022: val_loss did not improve from 0.00283\n",
      "100/100 [==============================] - 5s 53ms/step - loss: 0.0019 - val_loss: 0.0069\n",
      "Epoch 23/100\n",
      "1/1 [==============================] - 0s 31ms/sample - loss: 0.0067\n",
      "\n",
      "Epoch 00023: val_loss did not improve from 0.00283\n",
      "100/100 [==============================] - 6s 56ms/step - loss: 0.0020 - val_loss: 0.0067\n",
      "Epoch 24/100\n",
      "1/1 [==============================] - 0s 30ms/sample - loss: 0.0072\n",
      "\n",
      "Epoch 00024: val_loss did not improve from 0.00283\n",
      "100/100 [==============================] - 5s 54ms/step - loss: 0.0019 - val_loss: 0.0072\n",
      "Epoch 25/100\n",
      "1/1 [==============================] - 0s 25ms/sample - loss: 0.0075\n",
      "\n",
      "Epoch 00025: val_loss did not improve from 0.00283\n",
      "100/100 [==============================] - 5s 52ms/step - loss: 0.0018 - val_loss: 0.0075\n",
      "Epoch 26/100\n",
      "1/1 [==============================] - 0s 27ms/sample - loss: 0.0061\n",
      "\n",
      "Epoch 00026: val_loss did not improve from 0.00283\n",
      "100/100 [==============================] - 5s 53ms/step - loss: 0.0016 - val_loss: 0.0061\n",
      "Epoch 27/100\n",
      "1/1 [==============================] - 0s 26ms/sample - loss: 0.0062\n",
      "\n",
      "Epoch 00027: val_loss did not improve from 0.00283\n",
      "100/100 [==============================] - 5s 53ms/step - loss: 0.0019 - val_loss: 0.0062\n",
      "Epoch 28/100\n",
      "1/1 [==============================] - 0s 29ms/sample - loss: 0.0066\n",
      "\n",
      "Epoch 00028: val_loss did not improve from 0.00283\n",
      "100/100 [==============================] - 5s 53ms/step - loss: 0.0015 - val_loss: 0.0066\n",
      "Epoch 29/100\n",
      "1/1 [==============================] - 0s 27ms/sample - loss: 0.0066\n",
      "\n",
      "Epoch 00029: val_loss did not improve from 0.00283\n",
      "100/100 [==============================] - 5s 54ms/step - loss: 0.0015 - val_loss: 0.0066\n",
      "Epoch 30/100\n",
      "1/1 [==============================] - 0s 27ms/sample - loss: 0.0070\n",
      "\n",
      "Epoch 00030: val_loss did not improve from 0.00283\n",
      "100/100 [==============================] - 5s 48ms/step - loss: 0.0013 - val_loss: 0.0070\n",
      "Epoch 31/100\n",
      "1/1 [==============================] - 0s 26ms/sample - loss: 0.0065\n",
      "\n",
      "Epoch 00031: val_loss did not improve from 0.00283\n",
      "100/100 [==============================] - 5s 47ms/step - loss: 0.0012 - val_loss: 0.0065\n",
      "Epoch 32/100\n",
      "1/1 [==============================] - 0s 28ms/sample - loss: 0.0064\n",
      "\n",
      "Epoch 00032: val_loss did not improve from 0.00283\n",
      "100/100 [==============================] - 5s 48ms/step - loss: 0.0012 - val_loss: 0.0064\n",
      "Epoch 33/100\n",
      "1/1 [==============================] - 0s 27ms/sample - loss: 0.0059\n",
      "\n",
      "Epoch 00033: val_loss did not improve from 0.00283\n",
      "100/100 [==============================] - 5s 48ms/step - loss: 0.0012 - val_loss: 0.0059\n",
      "Epoch 34/100\n",
      "1/1 [==============================] - 0s 25ms/sample - loss: 0.0064\n",
      "\n",
      "Epoch 00034: val_loss did not improve from 0.00283\n",
      "100/100 [==============================] - 5s 48ms/step - loss: 0.0011 - val_loss: 0.0064\n",
      "Epoch 35/100\n",
      "1/1 [==============================] - 0s 28ms/sample - loss: 0.0065\n",
      "\n",
      "Epoch 00035: val_loss did not improve from 0.00283\n",
      "100/100 [==============================] - 5s 49ms/step - loss: 0.0013 - val_loss: 0.0065\n",
      "Epoch 36/100\n",
      "1/1 [==============================] - 0s 27ms/sample - loss: 0.0058\n",
      "\n",
      "Epoch 00036: val_loss did not improve from 0.00283\n",
      "100/100 [==============================] - 5s 49ms/step - loss: 0.0011 - val_loss: 0.0058\n",
      "Epoch 37/100\n",
      "1/1 [==============================] - 0s 26ms/sample - loss: 0.0057\n",
      "\n",
      "Epoch 00037: val_loss did not improve from 0.00283\n",
      "100/100 [==============================] - 5s 48ms/step - loss: 0.0011 - val_loss: 0.0057\n",
      "Epoch 38/100\n",
      "1/1 [==============================] - 0s 27ms/sample - loss: 0.0063\n",
      "\n",
      "Epoch 00038: val_loss did not improve from 0.00283\n",
      "100/100 [==============================] - 5s 48ms/step - loss: 0.0012 - val_loss: 0.0063\n",
      "Epoch 39/100\n",
      "1/1 [==============================] - 0s 30ms/sample - loss: 0.0060\n",
      "\n",
      "Epoch 00039: val_loss did not improve from 0.00283\n",
      "100/100 [==============================] - 5s 50ms/step - loss: 0.0010 - val_loss: 0.0060\n",
      "Epoch 40/100\n",
      "1/1 [==============================] - 0s 27ms/sample - loss: 0.0066\n",
      "\n",
      "Epoch 00040: val_loss did not improve from 0.00283\n",
      "100/100 [==============================] - 5s 50ms/step - loss: 0.0010 - val_loss: 0.0066\n",
      "Epoch 41/100\n",
      "1/1 [==============================] - 0s 27ms/sample - loss: 0.0066\n",
      "\n",
      "Epoch 00041: val_loss did not improve from 0.00283\n",
      "100/100 [==============================] - 5s 48ms/step - loss: 9.5563e-04 - val_loss: 0.0066\n",
      "Epoch 42/100\n",
      "1/1 [==============================] - 0s 27ms/sample - loss: 0.0067\n",
      "\n",
      "Epoch 00042: val_loss did not improve from 0.00283\n",
      "100/100 [==============================] - 5s 49ms/step - loss: 0.0012 - val_loss: 0.0067\n",
      "Epoch 43/100\n",
      "1/1 [==============================] - 0s 26ms/sample - loss: 0.0064\n",
      "\n",
      "Epoch 00043: val_loss did not improve from 0.00283\n",
      "100/100 [==============================] - 5s 48ms/step - loss: 9.0207e-04 - val_loss: 0.0064\n",
      "Epoch 44/100\n",
      "1/1 [==============================] - 0s 29ms/sample - loss: 0.0067\n",
      "\n",
      "Epoch 00044: val_loss did not improve from 0.00283\n",
      "100/100 [==============================] - 5s 50ms/step - loss: 8.4260e-04 - val_loss: 0.0067\n",
      "Epoch 45/100\n",
      "1/1 [==============================] - 0s 27ms/sample - loss: 0.0066\n",
      "\n",
      "Epoch 00045: val_loss did not improve from 0.00283\n",
      "100/100 [==============================] - 5s 49ms/step - loss: 0.0010 - val_loss: 0.0066\n",
      "Epoch 46/100\n",
      "1/1 [==============================] - 0s 27ms/sample - loss: 0.0063\n",
      "\n",
      "Epoch 00046: val_loss did not improve from 0.00283\n",
      "100/100 [==============================] - 5s 48ms/step - loss: 9.2467e-04 - val_loss: 0.0063\n",
      "Epoch 47/100\n",
      "1/1 [==============================] - 0s 26ms/sample - loss: 0.0066\n",
      "\n",
      "Epoch 00047: val_loss did not improve from 0.00283\n",
      "100/100 [==============================] - 5s 48ms/step - loss: 7.6257e-04 - val_loss: 0.0066\n",
      "Epoch 48/100\n",
      "1/1 [==============================] - 0s 26ms/sample - loss: 0.0065\n",
      "\n",
      "Epoch 00048: val_loss did not improve from 0.00283\n",
      "100/100 [==============================] - 5s 49ms/step - loss: 7.6688e-04 - val_loss: 0.0065\n",
      "Epoch 49/100\n",
      "1/1 [==============================] - 0s 33ms/sample - loss: 0.0070\n",
      "\n",
      "Epoch 00049: val_loss did not improve from 0.00283\n",
      "100/100 [==============================] - 5s 49ms/step - loss: 7.4605e-04 - val_loss: 0.0070\n",
      "Epoch 50/100\n",
      "1/1 [==============================] - 0s 28ms/sample - loss: 0.0066\n",
      "\n",
      "Epoch 00050: val_loss did not improve from 0.00283\n",
      "100/100 [==============================] - 5s 49ms/step - loss: 7.1536e-04 - val_loss: 0.0066\n",
      "Epoch 51/100\n",
      "1/1 [==============================] - 0s 27ms/sample - loss: 0.0064\n",
      "\n",
      "Epoch 00051: val_loss did not improve from 0.00283\n",
      "100/100 [==============================] - 5s 48ms/step - loss: 6.8289e-04 - val_loss: 0.0064\n",
      "Epoch 52/100\n",
      "1/1 [==============================] - 0s 27ms/sample - loss: 0.0064\n",
      "\n",
      "Epoch 00052: val_loss did not improve from 0.00283\n",
      "100/100 [==============================] - 5s 49ms/step - loss: 8.1655e-04 - val_loss: 0.0064\n",
      "Epoch 53/100\n",
      "1/1 [==============================] - 0s 27ms/sample - loss: 0.0066\n",
      "\n",
      "Epoch 00053: val_loss did not improve from 0.00283\n",
      "100/100 [==============================] - 5s 49ms/step - loss: 6.6409e-04 - val_loss: 0.0066\n",
      "Epoch 54/100\n",
      "1/1 [==============================] - 0s 29ms/sample - loss: 0.0061\n",
      "\n",
      "Epoch 00054: val_loss did not improve from 0.00283\n",
      "100/100 [==============================] - 5s 49ms/step - loss: 8.2037e-04 - val_loss: 0.0061\n",
      "Epoch 55/100\n",
      "1/1 [==============================] - 0s 28ms/sample - loss: 0.0062\n",
      "\n",
      "Epoch 00055: val_loss did not improve from 0.00283\n",
      "100/100 [==============================] - 5s 49ms/step - loss: 7.7930e-04 - val_loss: 0.0062\n",
      "Epoch 56/100\n",
      "1/1 [==============================] - 0s 28ms/sample - loss: 0.0061\n",
      "\n",
      "Epoch 00056: val_loss did not improve from 0.00283\n",
      "100/100 [==============================] - 5s 50ms/step - loss: 6.5805e-04 - val_loss: 0.0061\n",
      "Epoch 57/100\n",
      "1/1 [==============================] - 0s 29ms/sample - loss: 0.0063\n",
      "\n",
      "Epoch 00057: val_loss did not improve from 0.00283\n",
      "100/100 [==============================] - 5s 49ms/step - loss: 7.4671e-04 - val_loss: 0.0063\n",
      "Epoch 58/100\n",
      "1/1 [==============================] - 0s 30ms/sample - loss: 0.0060\n",
      "\n",
      "Epoch 00058: val_loss did not improve from 0.00283\n",
      "100/100 [==============================] - 5s 51ms/step - loss: 7.9469e-04 - val_loss: 0.0060\n",
      "Epoch 59/100\n",
      "1/1 [==============================] - 0s 28ms/sample - loss: 0.0062\n",
      "\n",
      "Epoch 00059: val_loss did not improve from 0.00283\n",
      "100/100 [==============================] - 5s 49ms/step - loss: 7.0195e-04 - val_loss: 0.0062\n",
      "Epoch 60/100\n",
      "1/1 [==============================] - 0s 27ms/sample - loss: 0.0062\n",
      "\n",
      "Epoch 00060: val_loss did not improve from 0.00283\n",
      "100/100 [==============================] - 5s 49ms/step - loss: 6.0819e-04 - val_loss: 0.0062\n",
      "Epoch 61/100\n",
      "1/1 [==============================] - 0s 28ms/sample - loss: 0.0062\n",
      "\n",
      "Epoch 00061: val_loss did not improve from 0.00283\n",
      "100/100 [==============================] - 5s 50ms/step - loss: 7.0796e-04 - val_loss: 0.0062\n",
      "Epoch 62/100\n",
      "1/1 [==============================] - 0s 27ms/sample - loss: 0.0063\n",
      "\n",
      "Epoch 00062: val_loss did not improve from 0.00283\n",
      "100/100 [==============================] - 5s 49ms/step - loss: 6.5828e-04 - val_loss: 0.0063\n",
      "Epoch 63/100\n",
      "1/1 [==============================] - 0s 28ms/sample - loss: 0.0063\n",
      "\n",
      "Epoch 00063: val_loss did not improve from 0.00283\n",
      "100/100 [==============================] - 5s 49ms/step - loss: 5.5847e-04 - val_loss: 0.0063\n",
      "Epoch 64/100\n",
      "1/1 [==============================] - 0s 27ms/sample - loss: 0.0063\n",
      "\n",
      "Epoch 00064: val_loss did not improve from 0.00283\n",
      "100/100 [==============================] - 5s 49ms/step - loss: 6.1230e-04 - val_loss: 0.0063\n",
      "Epoch 65/100\n",
      "1/1 [==============================] - 0s 27ms/sample - loss: 0.0063\n",
      "\n",
      "Epoch 00065: val_loss did not improve from 0.00283\n",
      "100/100 [==============================] - 5s 49ms/step - loss: 6.4157e-04 - val_loss: 0.0063\n",
      "Epoch 66/100\n",
      "1/1 [==============================] - 0s 27ms/sample - loss: 0.0062\n",
      "\n",
      "Epoch 00066: val_loss did not improve from 0.00283\n",
      "100/100 [==============================] - 5s 49ms/step - loss: 5.4494e-04 - val_loss: 0.0062\n",
      "Epoch 67/100\n",
      "1/1 [==============================] - 0s 29ms/sample - loss: 0.0063\n",
      "\n",
      "Epoch 00067: val_loss did not improve from 0.00283\n",
      "100/100 [==============================] - 5s 49ms/step - loss: 5.3567e-04 - val_loss: 0.0063\n",
      "Epoch 68/100\n",
      "1/1 [==============================] - 0s 30ms/sample - loss: 0.0063\n",
      "\n",
      "Epoch 00068: val_loss did not improve from 0.00283\n",
      "100/100 [==============================] - 5s 49ms/step - loss: 6.0026e-04 - val_loss: 0.0063\n",
      "Epoch 69/100\n",
      "1/1 [==============================] - 0s 28ms/sample - loss: 0.0061\n",
      "\n",
      "Epoch 00069: val_loss did not improve from 0.00283\n",
      "100/100 [==============================] - 5s 51ms/step - loss: 6.4411e-04 - val_loss: 0.0061\n",
      "Epoch 70/100\n",
      "1/1 [==============================] - 0s 27ms/sample - loss: 0.0064\n",
      "\n",
      "Epoch 00070: val_loss did not improve from 0.00283\n",
      "100/100 [==============================] - 5s 49ms/step - loss: 7.0019e-04 - val_loss: 0.0064\n",
      "Epoch 71/100\n",
      "1/1 [==============================] - 0s 27ms/sample - loss: 0.0062\n",
      "\n",
      "Epoch 00071: val_loss did not improve from 0.00283\n",
      "100/100 [==============================] - 5s 50ms/step - loss: 5.8719e-04 - val_loss: 0.0062\n",
      "Epoch 72/100\n",
      "1/1 [==============================] - 0s 28ms/sample - loss: 0.0063\n",
      "\n",
      "Epoch 00072: val_loss did not improve from 0.00283\n",
      "100/100 [==============================] - 5s 49ms/step - loss: 5.6886e-04 - val_loss: 0.0063\n",
      "Epoch 73/100\n",
      "1/1 [==============================] - 0s 27ms/sample - loss: 0.0056\n",
      "\n",
      "Epoch 00073: val_loss did not improve from 0.00283\n",
      "100/100 [==============================] - 5s 49ms/step - loss: 6.4230e-04 - val_loss: 0.0056\n",
      "Epoch 74/100\n",
      "1/1 [==============================] - 0s 29ms/sample - loss: 0.0065\n",
      "\n",
      "Epoch 00074: val_loss did not improve from 0.00283\n",
      "100/100 [==============================] - 5s 49ms/step - loss: 5.2210e-04 - val_loss: 0.0065\n",
      "Epoch 75/100\n",
      "1/1 [==============================] - 0s 29ms/sample - loss: 0.0060\n",
      "\n",
      "Epoch 00075: val_loss did not improve from 0.00283\n",
      "100/100 [==============================] - 5s 50ms/step - loss: 5.5736e-04 - val_loss: 0.0060\n",
      "Epoch 76/100\n",
      "1/1 [==============================] - 0s 29ms/sample - loss: 0.0064\n",
      "\n",
      "Epoch 00076: val_loss did not improve from 0.00283\n",
      "100/100 [==============================] - 5s 49ms/step - loss: 5.8971e-04 - val_loss: 0.0064\n",
      "Epoch 77/100\n",
      "1/1 [==============================] - 0s 30ms/sample - loss: 0.0064\n",
      "\n",
      "Epoch 00077: val_loss did not improve from 0.00283\n",
      "100/100 [==============================] - 5s 51ms/step - loss: 5.1000e-04 - val_loss: 0.0064\n",
      "Epoch 78/100\n",
      "1/1 [==============================] - 0s 29ms/sample - loss: 0.0062\n",
      "\n",
      "Epoch 00078: val_loss did not improve from 0.00283\n",
      "100/100 [==============================] - 5s 51ms/step - loss: 5.4494e-04 - val_loss: 0.0062\n",
      "Epoch 79/100\n",
      "1/1 [==============================] - 0s 27ms/sample - loss: 0.0063\n",
      "\n",
      "Epoch 00079: val_loss did not improve from 0.00283\n",
      "100/100 [==============================] - 5s 50ms/step - loss: 5.7514e-04 - val_loss: 0.0063\n",
      "Epoch 80/100\n",
      "1/1 [==============================] - 0s 27ms/sample - loss: 0.0063\n",
      "\n",
      "Epoch 00080: val_loss did not improve from 0.00283\n",
      "100/100 [==============================] - 5s 49ms/step - loss: 6.6213e-04 - val_loss: 0.0063\n",
      "Epoch 81/100\n",
      "1/1 [==============================] - 0s 28ms/sample - loss: 0.0062\n",
      "\n",
      "Epoch 00081: val_loss did not improve from 0.00283\n",
      "100/100 [==============================] - 5s 50ms/step - loss: 5.1170e-04 - val_loss: 0.0062\n",
      "Epoch 82/100\n",
      "1/1 [==============================] - 0s 32ms/sample - loss: 0.0055\n",
      "\n",
      "Epoch 00082: val_loss did not improve from 0.00283\n",
      "100/100 [==============================] - 5s 50ms/step - loss: 5.0805e-04 - val_loss: 0.0055\n",
      "Epoch 83/100\n",
      "1/1 [==============================] - 0s 29ms/sample - loss: 0.0062\n",
      "\n",
      "Epoch 00083: val_loss did not improve from 0.00283\n",
      "100/100 [==============================] - 5s 49ms/step - loss: 5.4820e-04 - val_loss: 0.0062\n",
      "Epoch 84/100\n",
      "1/1 [==============================] - 0s 28ms/sample - loss: 0.0060\n",
      "\n",
      "Epoch 00084: val_loss did not improve from 0.00283\n",
      "100/100 [==============================] - 5s 50ms/step - loss: 5.4329e-04 - val_loss: 0.0060\n",
      "Epoch 85/100\n",
      "1/1 [==============================] - 0s 25ms/sample - loss: 0.0063\n",
      "\n",
      "Epoch 00085: val_loss did not improve from 0.00283\n",
      "100/100 [==============================] - 5s 51ms/step - loss: 5.8649e-04 - val_loss: 0.0063\n",
      "Epoch 86/100\n",
      "1/1 [==============================] - 0s 29ms/sample - loss: 0.0063\n",
      "\n",
      "Epoch 00086: val_loss did not improve from 0.00283\n",
      "100/100 [==============================] - 5s 50ms/step - loss: 4.8423e-04 - val_loss: 0.0063\n",
      "Epoch 87/100\n",
      "1/1 [==============================] - 0s 27ms/sample - loss: 0.0064\n",
      "\n",
      "Epoch 00087: val_loss did not improve from 0.00283\n",
      "100/100 [==============================] - 5s 51ms/step - loss: 4.1386e-04 - val_loss: 0.0064\n",
      "Epoch 88/100\n",
      "1/1 [==============================] - 0s 29ms/sample - loss: 0.0063\n",
      "\n",
      "Epoch 00088: val_loss did not improve from 0.00283\n",
      "100/100 [==============================] - 5s 49ms/step - loss: 5.5126e-04 - val_loss: 0.0063\n",
      "Epoch 89/100\n",
      "1/1 [==============================] - 0s 29ms/sample - loss: 0.0064\n",
      "\n",
      "Epoch 00089: val_loss did not improve from 0.00283\n",
      "100/100 [==============================] - 5s 54ms/step - loss: 4.6000e-04 - val_loss: 0.0064\n",
      "Epoch 90/100\n",
      "1/1 [==============================] - 0s 27ms/sample - loss: 0.0060\n",
      "\n",
      "Epoch 00090: val_loss did not improve from 0.00283\n",
      "100/100 [==============================] - 5s 50ms/step - loss: 5.3039e-04 - val_loss: 0.0060\n",
      "Epoch 91/100\n",
      "1/1 [==============================] - 0s 27ms/sample - loss: 0.0064\n",
      "\n",
      "Epoch 00091: val_loss did not improve from 0.00283\n",
      "100/100 [==============================] - 5s 49ms/step - loss: 4.4264e-04 - val_loss: 0.0064\n",
      "Epoch 92/100\n",
      "1/1 [==============================] - 0s 26ms/sample - loss: 0.0060\n",
      "\n",
      "Epoch 00092: val_loss did not improve from 0.00283\n",
      "100/100 [==============================] - 5s 50ms/step - loss: 5.0712e-04 - val_loss: 0.0060\n",
      "Epoch 93/100\n",
      "1/1 [==============================] - 0s 27ms/sample - loss: 0.0061\n",
      "\n",
      "Epoch 00093: val_loss did not improve from 0.00283\n",
      "100/100 [==============================] - 5s 50ms/step - loss: 4.7756e-04 - val_loss: 0.0061\n",
      "Epoch 94/100\n",
      "1/1 [==============================] - 0s 26ms/sample - loss: 0.0061\n",
      "\n",
      "Epoch 00094: val_loss did not improve from 0.00283\n",
      "100/100 [==============================] - 5s 50ms/step - loss: 4.8787e-04 - val_loss: 0.0061\n",
      "Epoch 95/100\n",
      "1/1 [==============================] - 0s 28ms/sample - loss: 0.0064\n",
      "\n",
      "Epoch 00095: val_loss did not improve from 0.00283\n",
      "100/100 [==============================] - 5s 50ms/step - loss: 4.4309e-04 - val_loss: 0.0064\n",
      "Epoch 96/100\n",
      "1/1 [==============================] - 0s 28ms/sample - loss: 0.0064\n",
      "\n",
      "Epoch 00096: val_loss did not improve from 0.00283\n",
      "100/100 [==============================] - 5s 50ms/step - loss: 5.0873e-04 - val_loss: 0.0064\n",
      "Epoch 97/100\n",
      "1/1 [==============================] - 0s 27ms/sample - loss: 0.0063\n",
      "\n",
      "Epoch 00097: val_loss did not improve from 0.00283\n",
      "100/100 [==============================] - 5s 50ms/step - loss: 4.9508e-04 - val_loss: 0.0063\n",
      "Epoch 98/100\n",
      "1/1 [==============================] - 0s 26ms/sample - loss: 0.0063\n",
      "\n",
      "Epoch 00098: val_loss did not improve from 0.00283\n",
      "100/100 [==============================] - 5s 49ms/step - loss: 5.6160e-04 - val_loss: 0.0063\n",
      "Epoch 99/100\n",
      "1/1 [==============================] - 0s 33ms/sample - loss: 0.0062\n",
      "\n",
      "Epoch 00099: val_loss did not improve from 0.00283\n",
      "100/100 [==============================] - 5s 54ms/step - loss: 5.4530e-04 - val_loss: 0.0062\n",
      "Epoch 100/100\n",
      "1/1 [==============================] - 0s 35ms/sample - loss: 0.0061\n",
      "\n",
      "Epoch 00100: val_loss did not improve from 0.00283\n",
      "100/100 [==============================] - 6s 57ms/step - loss: 5.6447e-04 - val_loss: 0.0061\n",
      "CPU times: user 11min 8s, sys: 1min 11s, total: 12min 19s\n",
      "Wall time: 8min 26s\n"
     ]
    },
    {
     "data": {
      "text/plain": [
       "<tensorflow.python.keras.callbacks.History at 0x7f4a01361400>"
      ]
     },
     "execution_count": 53,
     "metadata": {},
     "output_type": "execute_result"
    }
   ],
   "source": [
    "%%time\n",
    "model.fit_generator(generator=generator,\n",
    "                    epochs=100,\n",
    "                    steps_per_epoch=100,\n",
    "                    validation_data=validation_data,\n",
    "                    callbacks=callbacks)"
   ]
  },
  {
   "cell_type": "code",
   "execution_count": 54,
   "metadata": {},
   "outputs": [],
   "source": [
    "try:\n",
    "    model.load_weights(path_checkpoint)\n",
    "except Exception as error:\n",
    "    print(\"Error trying to load checkpoint.\")\n",
    "    print(error)"
   ]
  },
  {
   "cell_type": "code",
   "execution_count": 55,
   "metadata": {},
   "outputs": [
    {
     "name": "stdout",
     "output_type": "stream",
     "text": [
      "1/1 [==============================] - 0s 34ms/sample - loss: 0.0028\n"
     ]
    }
   ],
   "source": [
    "result = model.evaluate(x=np.expand_dims(x_test_scaled, axis=0),\n",
    "                        y=np.expand_dims(y_test_scaled, axis=0))"
   ]
  },
  {
   "cell_type": "code",
   "execution_count": 56,
   "metadata": {},
   "outputs": [
    {
     "name": "stdout",
     "output_type": "stream",
     "text": [
      "loss (test-set): 0.002829246921464801\n"
     ]
    }
   ],
   "source": [
    "print(\"loss (test-set):\", result)"
   ]
  },
  {
   "cell_type": "code",
   "execution_count": 57,
   "metadata": {},
   "outputs": [],
   "source": [
    "if False:\n",
    "    for res, metric in zip(result, model.metrics_names):\n",
    "        print(\"{0}: {1:.3e}\".format(metric, res))"
   ]
  },
  {
   "cell_type": "code",
   "execution_count": 58,
   "metadata": {},
   "outputs": [],
   "source": [
    "def plot_comparison(start_idx, length=5, train=False):\n",
    "    \"\"\"\n",
    "    Plot the predicted and true output-signals.\n",
    "    \n",
    "    :param start_idx: Start-index for the time-series.\n",
    "    :param length: Sequence-length to process and plot.\n",
    "    :param train: Boolean whether to use training- or test-set.\n",
    "    \"\"\"\n",
    "    \n",
    "    if train:\n",
    "        # Use training-data.\n",
    "        x = x_train_scaled\n",
    "        y_true = y_train\n",
    "    else:\n",
    "        # Use test-data.\n",
    "        x = x_test_scaled\n",
    "        y_true = y_test\n",
    "    \n",
    "    # End-index for the sequences.\n",
    "    end_idx = start_idx + length\n",
    "    \n",
    "    # Select the sequences from the given start-index and\n",
    "    # of the given length.\n",
    "    x = x[start_idx:end_idx]\n",
    "    y_true = y_true[start_idx:end_idx]\n",
    "    \n",
    "    # Input-signals for the model.\n",
    "    x = np.expand_dims(x, axis=0)\n",
    "\n",
    "    # Use the model to predict the output-signals.\n",
    "    y_pred = model.predict(x)\n",
    "    \n",
    "    # The output of the model is between 0 and 1.\n",
    "    # Do an inverse map to get it back to the scale\n",
    "    # of the original data-set.\n",
    "    y_pred_rescaled = y_scaler.inverse_transform(y_pred[0])\n",
    "\n",
    "    signal_pred = y_pred_rescaled[:]\n",
    "    signal_true = y_true[:]\n",
    "\n",
    "    # Make the plotting-canvas bigger.\n",
    "    plt.figure(figsize=(15,5))\n",
    "        \n",
    "    # Plot and compare the two signals.\n",
    "    plt.plot(signal_true, label='true')\n",
    "    plt.plot(signal_pred, label='pred')\n",
    "        \n",
    "    # Plot grey box for warmup-period.\n",
    "    p = plt.axvspan(0, warmup_steps, facecolor='black', alpha=0.15)\n",
    "        \n",
    "    # Plot labels etc.\n",
    "    plt.ylabel('total_cases')\n",
    "    plt.legend()\n",
    "    plt.show()"
   ]
  },
  {
   "cell_type": "code",
   "execution_count": 70,
   "metadata": {},
   "outputs": [
    {
     "data": {
      "image/png": "[encoded data removed]",
      "text/plain": [
       "<Figure size 1080x360 with 1 Axes>"
      ]
     },
     "metadata": {},
     "output_type": "display_data"
    }
   ],
   "source": [
    "plot_comparison(start_idx=10, length=500, train=True)"
   ]
  },
  {
   "cell_type": "code",
   "execution_count": 60,
   "metadata": {},
   "outputs": [],
   "source": [
    "test_sj = sj_testset.values[:]"
   ]
  },
  {
   "cell_type": "code",
   "execution_count": 61,
   "metadata": {},
   "outputs": [
    {
     "data": {
      "text/plain": [
       "(260, 11)"
      ]
     },
     "execution_count": 61,
     "metadata": {},
     "output_type": "execute_result"
    }
   ],
   "source": [
    "test_sj.shape"
   ]
  },
  {
   "cell_type": "code",
   "execution_count": 62,
   "metadata": {},
   "outputs": [],
   "source": [
    "test_sj_scaled = x_scaler.transform(test_sj)"
   ]
  },
  {
   "cell_type": "code",
   "execution_count": 63,
   "metadata": {},
   "outputs": [
    {
     "name": "stdout",
     "output_type": "stream",
     "text": [
      "Min: -0.09018567639168162\n",
      "Max: 1.3071459631830702\n"
     ]
    }
   ],
   "source": [
    "print(\"Min:\", np.min(test_sj_scaled))\n",
    "print(\"Max:\", np.max(test_sj_scaled))"
   ]
  },
  {
   "cell_type": "code",
   "execution_count": 64,
   "metadata": {},
   "outputs": [],
   "source": [
    "x = test_sj_scaled\n",
    "x = np.expand_dims(x, axis=0)\n",
    "y_pred = model.predict(x)\n",
    "y_pred_rescaled = y_scaler.inverse_transform(y_pred[0])\n"
   ]
  },
  {
   "cell_type": "code",
   "execution_count": 65,
   "metadata": {},
   "outputs": [
    {
     "data": {
      "text/plain": [
       "(260, 1)"
      ]
     },
     "execution_count": 65,
     "metadata": {},
     "output_type": "execute_result"
    }
   ],
   "source": [
    "y_pred_rescaled.shape"
   ]
  },
  {
   "cell_type": "code",
   "execution_count": 66,
   "metadata": {},
   "outputs": [],
   "source": [
    "y_pred_rescaled = y_pred_rescaled.astype(int)"
   ]
  },
  {
   "cell_type": "code",
   "execution_count": 67,
   "metadata": {},
   "outputs": [],
   "source": [
    "sj_sub = pd.DataFrame({'total_cases':y_pred_rescaled[:,0]})"
   ]
  },
  {
   "cell_type": "code",
   "execution_count": 68,
   "metadata": {},
   "outputs": [
    {
     "data": {
      "text/html": [
       "<div>\n",
       "<style scoped>\n",
       "    .dataframe tbody tr th:only-of-type {\n",
       "        vertical-align: middle;\n",
       "    }\n",
       "\n",
       "    .dataframe tbody tr th {\n",
       "        vertical-align: top;\n",
       "    }\n",
       "\n",
       "    .dataframe thead th {\n",
       "        text-align: right;\n",
       "    }\n",
       "</style>\n",
       "<table border=\"1\" class=\"dataframe\">\n",
       "  <thead>\n",
       "    <tr style=\"text-align: right;\">\n",
       "      <th></th>\n",
       "      <th>total_cases</th>\n",
       "    </tr>\n",
       "  </thead>\n",
       "  <tbody>\n",
       "    <tr>\n",
       "      <th>0</th>\n",
       "      <td>63</td>\n",
       "    </tr>\n",
       "    <tr>\n",
       "      <th>1</th>\n",
       "      <td>42</td>\n",
       "    </tr>\n",
       "    <tr>\n",
       "      <th>2</th>\n",
       "      <td>38</td>\n",
       "    </tr>\n",
       "    <tr>\n",
       "      <th>3</th>\n",
       "      <td>28</td>\n",
       "    </tr>\n",
       "    <tr>\n",
       "      <th>4</th>\n",
       "      <td>23</td>\n",
       "    </tr>\n",
       "  </tbody>\n",
       "</table>\n",
       "</div>"
      ],
      "text/plain": [
       "   total_cases\n",
       "0           63\n",
       "1           42\n",
       "2           38\n",
       "3           28\n",
       "4           23"
      ]
     },
     "execution_count": 68,
     "metadata": {},
     "output_type": "execute_result"
    }
   ],
   "source": [
    "sj_sub.head()"
   ]
  },
  {
   "cell_type": "code",
   "execution_count": 69,
   "metadata": {},
   "outputs": [],
   "source": [
    "sj_sub.to_csv('Submission_sj.csv', index = False)"
   ]
  },
  {
   "cell_type": "code",
   "execution_count": null,
   "metadata": {},
   "outputs": [],
   "source": []
  }
 ],
 "metadata": {
  "kernelspec": {
   "display_name": "Python 3",
   "language": "python",
   "name": "python3"
  },
  "language_info": {
   "codemirror_mode": {
    "name": "ipython",
    "version": 3
   },
   "file_extension": ".py",
   "mimetype": "text/x-python",
   "name": "python",
   "nbconvert_exporter": "python",
   "pygments_lexer": "ipython3",
   "version": "3.6.8"
  }
 },
 "nbformat": 4,
 "nbformat_minor": 2
}
